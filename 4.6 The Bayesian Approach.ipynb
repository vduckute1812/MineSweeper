{
 "cells": [
  {
   "cell_type": "markdown",
   "id": "4c476663-fe41-4546-986a-e11969da1930",
   "metadata": {},
   "source": [
    "**Expression:** \n",
    "\n",
    "$Pr(x^*|x_1..x_n) = \\int Pr(x^*|\\theta)Pr(\\theta|x_1..x_n)d\\theta$"
   ]
  },
  {
   "cell_type": "code",
   "execution_count": 1,
   "id": "ce0500c3-36b0-45ac-bc59-8762b54eb67c",
   "metadata": {},
   "outputs": [],
   "source": [
    "import matplotlib.pyplot as plt\n",
    "import numpy as np\n",
    "import math\n",
    "from scipy import stats"
   ]
  },
  {
   "cell_type": "code",
   "execution_count": 2,
   "id": "57a7727c-01e9-4a67-859c-98f7a81e6427",
   "metadata": {},
   "outputs": [],
   "source": [
    "I = 1000 # change to recognize result\n",
    "\n",
    "# alphaPrior = np.ones(6) # it a special type of ML\n",
    "alphaPrior = [10, 100, 1000, 1000, 10, 1]\n",
    "\n",
    "original_probabilities = [0.25,0.15,0.1,0.1,0.15,0.25]\n",
    "data = np.random.choice(np.arange(7)[1:], I, p=original_probabilities)\n",
    "\n",
    "# Histogram of categorical distribution\n",
    "x = np.histogram(data, bins=[1, 2, 3, 4, 5, 6, 7])\n",
    "# print(alphaPrior)\n",
    "# print(x[0])\n",
    "# print(x[1][:-1])"
   ]
  },
  {
   "cell_type": "code",
   "execution_count": 3,
   "id": "d18f0512-44eb-49f3-aecb-80983649f0ed",
   "metadata": {},
   "outputs": [
    {
     "data": {
      "image/png": "[encoded data removed]",
      "text/plain": [
       "<Figure size 432x288 with 1 Axes>"
      ]
     },
     "metadata": {
      "needs_background": "light"
     },
     "output_type": "display_data"
    }
   ],
   "source": [
    "histogram = x[0]\n",
    "bins = x[1][:-1]\n",
    "# plt.style.use('ggplot')\n",
    "# plt.hist(data, bins=6, color = 'b')\n",
    "plt.bar(bins, np.array(original_probabilities), align='center', alpha=0.5)\n",
    "plt.xlabel('x', size = 14)\n",
    "plt.ylabel('Frequency', size = 14)\n",
    "plt.title('Probability of roll the dice')\n",
    "\n",
    "plt.show()"
   ]
  },
  {
   "cell_type": "code",
   "execution_count": 4,
   "id": "a28bdce1-3333-45fb-8a0e-1f44f760531b",
   "metadata": {},
   "outputs": [],
   "source": [
    "def MleNorm(N, k):\n",
    "    lambda_ = np.zeros(k)\n",
    "    sum_ = sum(histogram)\n",
    "    for idx in range(k):\n",
    "        lambda_[idx] = histogram[idx]/sum_\n",
    "    return lambda_\n",
    "def MapCategoricalNorm(N, k, alpha):\n",
    "    sumLow = 0\n",
    "    for idx in range(k):\n",
    "        sumLow += N[idx] + alpha[idx] - 1\n",
    "    lambda_ = (N + alpha - 1)/sumLow\n",
    "    return lambda_\n",
    "\n",
    "def EvidentNorm(N, k, alpha):\n",
    "    sumLow = 0\n",
    "    for idx in range(k):\n",
    "        sumLow += N[idx] + alpha[idx]\n",
    "    lambda_ = (N + alpha)/sumLow\n",
    "    return lambda_"
   ]
  },
  {
   "cell_type": "code",
   "execution_count": 5,
   "id": "87ede865-e411-4169-aca2-1b14db2ac692",
   "metadata": {},
   "outputs": [
    {
     "name": "stdout",
     "output_type": "stream",
     "text": [
      "[258 164  84  90 164 240]\n",
      "MLE: [0.258 0.164 0.084 0.09  0.164 0.24 ]\n",
      "MAP: [0.08571429 0.08443018 0.34767255 0.34959872 0.05553772 0.07704655]\n",
      "Bayense: [0.08586991 0.08458827 0.34732458 0.34924704 0.05575136 0.07721884]\n",
      "Original: [0.25, 0.15, 0.1, 0.1, 0.15, 0.25]\n"
     ]
    }
   ],
   "source": [
    "map_ = MapCategoricalNorm(histogram, 6, alphaPrior)\n",
    "bayense_ = EvidentNorm(histogram, 6, alphaPrior)\n",
    "mle_ = MleNorm(histogram, 6)\n",
    "print(histogram)\n",
    "print('MLE:', mle_)\n",
    "print('MAP:', map_)\n",
    "print('Bayense:', bayense_)\n",
    "print('Original:', original_probabilities)"
   ]
  },
  {
   "cell_type": "code",
   "execution_count": 6,
   "id": "b4a7fcae-fac5-4e2a-ad17-ae843e1a8a89",
   "metadata": {},
   "outputs": [
    {
     "data": {
      "image/png": "[encoded data removed]",
      "text/plain": [
       "<Figure size 432x288 with 4 Axes>"
      ]
     },
     "metadata": {
      "needs_background": "light"
     },
     "output_type": "display_data"
    }
   ],
   "source": [
    "rang = np.arange(0, 0.3, 0.05)\n",
    "fig, axs = plt.subplots(1, 4)\n",
    "axs[0].bar(bins, np.array(original_probabilities), align='center', alpha=0.5)\n",
    "axs[0].set_title('Original', size = 14)\n",
    "axs[0].set_yticks(rang)\n",
    "\n",
    "\n",
    "axs[1].bar(bins, np.array(mle_), align='center', alpha=0.5)\n",
    "axs[1].set_title('MLE', size = 14)\n",
    "axs[1].set_yticks(rang)\n",
    "\n",
    "\n",
    "axs[2].bar(bins, np.array(map_), align='center', alpha=0.5)\n",
    "axs[2].set_title('MAP', size = 14)\n",
    "axs[2].set_yticks(rang)\n",
    "\n",
    "axs[3].bar(bins, np.array(bayense_), align='center', alpha=0.5)\n",
    "axs[3].set_title('Bayense', size = 14)\n",
    "axs[3].set_yticks(rang)\n",
    "\n",
    "\n",
    "plt.show()"
   ]
  }
 ],
 "metadata": {
  "kernelspec": {
   "display_name": "Python 3",
   "language": "python",
   "name": "python3"
  },
  "language_info": {
   "codemirror_mode": {
    "name": "ipython",
    "version": 3
   },
   "file_extension": ".py",
   "mimetype": "text/x-python",
   "name": "python",
   "nbconvert_exporter": "python",
   "pygments_lexer": "ipython3",
   "version": "3.6.9"
  }
 },
 "nbformat": 4,
 "nbformat_minor": 5
}
