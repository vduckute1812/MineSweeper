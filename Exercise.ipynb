{
 "cells": [
  {
   "cell_type": "markdown",
   "metadata": {},
   "source": [
    "Utils: https://www.codecogs.com/latex/eqneditor.php\n"
   ]
  },
  {
   "cell_type": "markdown",
   "metadata": {},
   "source": [
    "**Problem 4.5:** The denominator of Bayes' rule:  \n",
    "  $Pr(x_1..x_n) = \\int\\prod_{i=1}^{I} Pr(x_i|\\theta)Pr(\\theta)d\\theta$.   \n",
    "is known as the *evidence*. It is a measure of how well the distribution fits *regardless* of the particular values of the parameters. Find an expression for the evidence tern for (i) the normal distribution and (ii) the categorical distribution assumming conjugate priors in each case.\n"
   ]
  },
  {
   "cell_type": "markdown",
   "metadata": {},
   "source": [
    "**Normal distribution**  \n",
    "$Pr(x_1..x_n) = \\int\\int\\prod_{i=1}^{I} Pr(x_i|\\mu,\\sigma^2)Pr(\\mu,\\sigma^2)d\\mu d\\sigma^2$  \n",
    "$ = \\int\\int\\prod_{i=1}^{I} Norm_{x_i}(\\mu,\\sigma^2)NormInvGam_{\\mu,\\sigma^2}[\\alpha,\\beta,\\gamma,\\delta]d\\mu d\\sigma^2$  \n",
    "\n",
    "where:\n",
    "$Pr(\\mu,\\sigma^2)d\\mu d\\sigma^2 = NormInvGam_{\\mu,\\sigma^2}[\\alpha,\\beta,\\gamma,\\delta]  \n",
    "=\\frac{\\sqrt{\\gamma}}{\\sigma \\sqrt{2\\pi}}\\frac{\\beta^\\alpha}{\\Gamma(\\alpha)}(\\frac{1}{\\sigma^2})^{\\alpha+1}exp[-\\frac{2\\beta+\\gamma(\\delta-\\mu)^2}{2\\sigma^2}]$\n",
    "\n",
    "\n",
    "$Pr(x_1..x_n) = \\int\\int\\prod_{i=1}^{I} Pr(x_i|\\mu,\\sigma^2)Pr(\\mu,\\sigma^2)d\\mu d\\sigma^2 = \\int\\int NormInvGam_{\\mu,\\sigma^2}[\\alpha,\\beta,\\gamma,\\delta]d\\mu d\\sigma^2 = \\int\\int \\kappa NormInvGam_{\\mu,\\sigma^2}[\\tilde{\\alpha},\\tilde{\\beta},\\tilde{\\gamma},\\tilde{\\delta}]d\\mu d\\sigma^2 = \\kappa, $  \n",
    "Because the intergral of distribution function is one.  \n",
    "=> $Pr(x_1..x_n) = \\kappa $  \n",
    "\n",
    "Where:  \n",
    "$\\kappa = \\frac{1}{(2\\pi)^{I/2}}\\frac{\\sqrt{\\gamma}\\beta^\\alpha}{\\sqrt{\\tilde{\\gamma}}\\tilde{\\beta}^\\tilde{\\alpha}}$  \n",
    "$\\tilde{\\alpha} = \\alpha + I/2$  \n",
    "$\\tilde{\\beta} = \\frac{\\sum_{i}x_i^2}{2}+\\beta+\\frac{\\gamma\\delta^2}{2} - \\frac{(\\gamma\\delta + \\sum_{i}x_i)^2}{2(\\gamma+I)}$  \n",
    "$\\tilde{\\gamma} = \\gamma + I$\n",
    "\n",
    "\n"
   ]
  },
  {
   "cell_type": "markdown",
   "metadata": {},
   "source": [
    "***Problem 4.6:*** The evidence term can be used to compare models. Consider two sets of data $S_1=$ {0.1,-0.5,0.2,0.7} and $S_2=$ {1.1,2.0,1.4,2.3}. Let us pose the question of whether these two data sets came from the same normal distribution or from two different normal distributions.  \n",
    "Let model $M_1$ denote the case where all of the data comes from the one normal distribution. The evidence for this model is:  \n",
    "\n",
    "$Pr(S_1\\cup S_2 | M_1) = \\int \\prod_{i\\in S_1\\cup S_2} Pr(x_i|\\theta)Pr(\\theta)d\\theta$,  \n",
    "where $\\theta =$ {$\\mu, \\sigma^2$} contain parameters of this normal distribution. Similarly, we will let $M_2$ denote the case where the two sets of data belong to different normal distributions.  \n",
    "\n",
    "$Pr(S_1\\cup S_2 | M_2) = \\int \\prod_{i\\in S_1} Pr(x_i|\\theta_1)Pr(\\theta_1)d\\theta_1 \\prod_{i\\in S_2} Pr(x_i|\\theta_2)Pr(\\theta_2)d\\theta_2$,  \n",
    "where $\\theta_1 =$ {$\\mu_1, \\sigma_1^2$}$, \\theta_2 =$ {$\\mu_2, \\sigma_2^2$}"
   ]
  },
  {
   "cell_type": "markdown",
   "metadata": {},
   "source": [
    "Now it is possible to compare the probability of the data under each of these two models using Bayes' rule  \n",
    "$Pr(M_1|S_1\\cup S_2) = \\frac{Pr(S_1 \\cup S_2| M_1)Pr(M_1)}{\\sum_{n=1}^{2}Pr(S_1 \\cup S_2 |M_n)Pr(M_n)}$"
   ]
  },
  {
   "cell_type": "code",
   "execution_count": 1,
   "metadata": {},
   "outputs": [],
   "source": [
    "import matplotlib.pyplot as plt\n",
    "import numpy as np\n",
    "import math\n",
    "from scipy import stats"
   ]
  },
  {
   "cell_type": "code",
   "execution_count": 2,
   "metadata": {},
   "outputs": [],
   "source": [
    "S1 = np.array([0.1, -0.5, 0.2, 0.7])\n",
    "S2 = np.array([1.1, 2.0, 1.4, 2.3])"
   ]
  },
  {
   "cell_type": "code",
   "execution_count": 3,
   "metadata": {},
   "outputs": [],
   "source": [
    "def evidentNorm(alpha, beta, gamma, delta, x):\n",
    "    I = x.size\n",
    "    alpha_ = alpha + I / 2\n",
    "    beta_ = sum(pow(x,2))/2+beta + gamma*pow(delta,2)/2 - pow(gamma*delta+sum(x),2) / (2*(gamma+I))\n",
    "    gamma_ = gamma + I\n",
    "    \n",
    "    upVal = math.sqrt(gamma) * pow(beta,alpha)\n",
    "    lowVal = pow(2*math.pi, I/2) * math.sqrt(gamma_) * pow(beta_,alpha_)\n",
    "    k = upVal / lowVal\n",
    "    return k"
   ]
  },
  {
   "cell_type": "code",
   "execution_count": 5,
   "metadata": {},
   "outputs": [
    {
     "name": "stdout",
     "output_type": "stream",
     "text": [
      "The resulting probabilities are:\n",
      "Pr(S1) =  0.004405483303634447\n",
      "Pr(S2) =  0.0006400767127359544\n",
      "Pr(S1 V S2) =  9.686338632203578e-08\n"
     ]
    }
   ],
   "source": [
    "Pr_S1 = evidentNorm(1,1,1,0,S1)  \n",
    "Pr_S2 = evidentNorm(1,1,1,0,S2)  \n",
    "Pr_S1S2 = evidentNorm(1,1,1,0, np.concatenate((S1,S2), axis =None))  \n",
    "print('The resulting probabilities are:')  \n",
    "print('Pr(S1) = ',Pr_S1)  \n",
    "print('Pr(S2) = ', Pr_S2)  \n",
    "print('Pr(S1 V S2) = ', Pr_S1S2)\n",
    "\n"
   ]
  },
  {
   "cell_type": "markdown",
   "metadata": {},
   "source": [
    "The posterior probability if the two sets of data coming from the same normal is"
   ]
  },
  {
   "cell_type": "markdown",
   "metadata": {},
   "source": [
    "$Pr(M_1|S_1\\cup S_2) = \\frac{Pr(S_1 \\cup S_2| M_1)Pr(M_1)}{\\sum_{n=1}^{2}Pr(S_1 \\cup S_2 |M_n)Pr(M_n)}$\n",
    "$= \\frac{Pr(S_1\\cup S_2)}{Pr(S_1 \\cup S_2) + Pr(S_1)Pr(S_2) }$"
   ]
  },
  {
   "cell_type": "code",
   "execution_count": 6,
   "metadata": {},
   "outputs": [
    {
     "name": "stdout",
     "output_type": "stream",
     "text": [
      "Result =  0.03320980299460188\n"
     ]
    }
   ],
   "source": [
    "result = Pr_S1S2 / (Pr_S1S2 + Pr_S1*Pr_S2)\n",
    "print('Result = ', result)"
   ]
  },
  {
   "cell_type": "markdown",
   "metadata": {},
   "source": [
    "***Problem 5.4:*** The Schur complement identity states that inverse of a matrix in terms of its sub-blocks is  \n",
    "$\\begin{bmatrix}A&B \\\\ C&D \\end{bmatrix}^{-1}=\\begin{bmatrix}(A-BD^{-1}C)^{-1}&-(A-BD^{-1}C)BD^{-1} \\\\ -D^{-1}C(A-BD^{-1}C)^{-1}&D^{-1}+D^{-1}C(A-BD^{-1}C)^{-1}BD^{-1} \\end{bmatrix}$  \n",
    "Prove the conditional distribution property for the normal distribution: if  \n",
    "    $Pr(x)=Pr\\left(\\begin{bmatrix}x_1\\\\ x_2\\end{bmatrix}\\right) = Norm_x\\left[\\begin{bmatrix}\\mu_1\\\\ \\mu_2\\end{bmatrix}, \\begin{bmatrix}\\sum_{11}&\\sum_{12}^T\\\\ \\sum_{12}&\\sum_{22}\\end{bmatrix} \\right],$  \n",
    "\n",
    "then  \n",
    "\n",
    "$Pr(x_1|x_2) = Norm_{x_1}\\left[\\mu_1+\\sum_{12}^T\\sum_{22}^{-1}(x_2-\\mu_2),\\sum_{11}-\\sum_{12}^T\\sum_{22}^{-1}\\sum_{12}\\right]$\n"
   ]
  },
  {
   "cell_type": "markdown",
   "metadata": {},
   "source": [
    "Solved by proving:  \n",
    "\n",
    "$\\begin{bmatrix}A&B \\\\ C&D \\end{bmatrix} * \\begin{bmatrix}(A-BD^{-1}C)^{-1}&-(A-BD^{-1}C)BD^{-1} \\\\ -D^{-1}C(A-BD^{-1}C)^{-1}&D^{-1}+D^{-1}C(A-BD^{-1}C)^{-1}BD^{-1} \\end{bmatrix}  = I$"
   ]
  },
  {
   "cell_type": "markdown",
   "metadata": {},
   "source": [
    "***Problem 5.5:*** Prove Schur complement identity states that inverse of a matrix in terms of its sub-blocks is:\n",
    "\n",
    "$Pr(x) = Pr\\left (\\begin{bmatrix}x_1 \\\\ x_2 \\end{bmatrix} \\right ) = Norm_x \\left[\\begin{bmatrix}\\mu_1 \\\\ \\mu_2 \\end{bmatrix}, \\begin{bmatrix} \\sum_{11}&\\sum_{12}^T \\\\ \\sum_{12}&\\sum_{22} \\end{bmatrix} \\right] $  \n",
    "\n",
    "Then:  \n",
    "$Pr(x_1|x_2) = Norm_{x_1}\\left[ \\mu_1 + \\sum_{12}^T\\sum_{22}^{-1}(x_2-\\mu_2),\\sum_{12} - \\sum_{12}^T \\sum_{22}^{-1}\\sum_{12} \\right]$"
   ]
  },
  {
   "cell_type": "markdown",
   "metadata": {},
   "source": [
    "**Solution:**  \n",
    "Apply Schur's complement:"
   ]
  },
  {
   "cell_type": "code",
   "execution_count": null,
   "metadata": {},
   "outputs": [],
   "source": []
  }
 ],
 "metadata": {
  "kernelspec": {
   "display_name": "Python 3",
   "language": "python",
   "name": "python3"
  },
  "language_info": {
   "codemirror_mode": {
    "name": "ipython",
    "version": 3
   },
   "file_extension": ".py",
   "mimetype": "text/x-python",
   "name": "python",
   "nbconvert_exporter": "python",
   "pygments_lexer": "ipython3",
   "version": "3.6.12"
  }
 },
 "nbformat": 4,
 "nbformat_minor": 4
}
