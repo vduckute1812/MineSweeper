{
 "cells": [
  {
   "cell_type": "markdown",
   "metadata": {},
   "source": [
    "As a discrete data $\\{x_i\\}_{i=1}^{I}$  where $x_i\\in\\{1,2,...6\\}$  \n",
    "$Pr(x=k|\\lambda _1.._k) = \\prod_{k=1}^{K}{\\lambda_k^{x_k}} = \\lambda_k$"
   ]
  },
  {
   "cell_type": "markdown",
   "metadata": {},
   "source": [
    "$\\hat{\\lambda}=\\underset{\\lambda_1.._6}{argmax}\\left [ \\prod_{i=1}^{I}Pr(x_i|\\lambda_1.._6)\\right ] $\n",
    ", subject to: $\\underset{k}{\\sum}\\lambda_k=1$  \n",
    "$=\\underset{\\lambda_1.._6}{argmax}\\left [ \\prod_{i=1}^{I}Pr(x_i|\\lambda_1.._6)\\right ] $  \n",
    "$=\\underset{\\lambda_1.._6}{argmax}\\left [ \\prod_{k=1}^{K}{\\lambda_k^{x_k}}\\right ]$  \n",
    "\n",
    "Similarly, it is easier to maximize the log probability, and we use the crierion:  \n",
    "$L = \\sum_{k=1}^{6}N_k\\log{[\\lambda_k]}+\\nu\\left(\\sum_{k=1}^{6}\\lambda_k-1\\right)$   \n",
    "We differentiate L with respect to $\\lambda_k$ and $\\nu$, set the derivatives equal to zero, and solve for $\\lambda_k$ to obtain:  \n",
    "\n",
    "$\\frac{\\delta L}{\\delta\\lambda_k}=\\frac{N_k}{\\lambda_k}+\\nu$  \n",
    "$\\frac{\\delta L}{\\delta\\nu}=\\sum_{k=1}^{6}{\\lambda_k-1}$  \n",
    "\n",
    "$\\left\\{\\begin{matrix}\n",
    "&\\frac{\\delta L}{\\delta\\lambda_k}=0& \\\\\n",
    "&\\frac{\\delta L}{\\delta\\nu}=0&\n",
    "\\end{matrix}\\right.\n",
    "$  \n",
    "\n",
    "$\\left\\{\\begin{matrix}\n",
    "&\\frac{N_k}{\\lambda_k}+\\nu=0& \\\\\n",
    "&\\sum_{k=1}^{6}{\\lambda_k-1}=0&\n",
    "\\end{matrix}\\right.\n",
    "$  \n",
    "\n",
    "$\\left\\{\\begin{matrix}\n",
    "&\\frac{N_k}{\\lambda_k}+\\nu=0& \\\\\n",
    "&\\sum_{k=1}^{6}{\\left(-\\frac{N_k}{\\nu}\\right)}-1=0&\n",
    "\\end{matrix}\\right.\n",
    "$  \n",
    "\n",
    "$\\left\\{\\begin{matrix}\n",
    "&\\hat{\\lambda_k}=\\frac{N_k}{\\sum_{k=1}^{6}N_k}& \\\\\n",
    "&\\nu=-\\sum_{k=1}^{6}N_k&\n",
    "\\end{matrix} \\right.\n",
    "$"
   ]
  },
  {
   "cell_type": "code",
   "execution_count": 1,
   "metadata": {},
   "outputs": [],
   "source": [
    "import matplotlib.pyplot as plt\n",
    "import numpy as np\n",
    "import math\n",
    "from scipy import stats"
   ]
  },
  {
   "cell_type": "code",
   "execution_count": 2,
   "metadata": {},
   "outputs": [
    {
     "name": "stdout",
     "output_type": "stream",
     "text": [
      "[3 2 6 1 4 3 6 2 6 1 1 3 6 3 3 2 1 3 6 6 3 2 2 3 1 5 1 4 5 4 2 4 6 6 5 3 1\n",
      " 5 6 6 3 2 6 6 5 2 6 3 4 3 5 6 6 6 2 3 2 2 1 6 2 1 5 3 1 1 3 6 5 1 2 2 1 4\n",
      " 6 6 4 1 5 1 6 3 6 6 1 2 6 2 3 1 6 2 6 5 2 1 6 5 2 5 2 1 5 2 1 6 4 5 1 6 2\n",
      " 4 5 2 1 1 6 2 6 1 1 2 3 3 1 6 6 6 1 5 5 6 1 1 2 1 1 2 1 5 2 5 1 6 5 6 2 6\n",
      " 6 1 1 5 1 1 4 6 5 1 5 2 5 6 1 5 2 5 4 6 4 2 6 5 1 1 2 4 6 5 2 2 6 6 3 5 6\n",
      " 1 2 1 6 5 3 3 1 1 2 6 5 5 6 6 1 4 1 6 6 4 6 2 2 3 2 2 2 1 2 4 5 5 1 4 5 1\n",
      " 2 1 2 3 4 5 1 1 4 6 3 5 6 1 1 6 4 6 2 1 6 2 2 6 4 1 6 1 5 3 5 1 2 6 6 3 6\n",
      " 4 2 1 4 6 6 2 1 6 1 2 1 5 1 6 6 6 1 2 1 4 1 1 5 6 6 1 4 5 5 6 2 1 2 6 1 6\n",
      " 5 3 5 2 6 6 4 6 2 3 1 3 6 5 6 1 1 2 1 3 1 1 5 3 5 1 6 3 1 5 2 6 6 4 5 1 6\n",
      " 4 2 6 1 5 1 5 4 4 3 3 5 1 3 2 1 4 1 4 6 6 5 6 2 5 1 2 2 6 1 4 5 6 3 6 1 5\n",
      " 2 6 1 1 5 6 3 2 1 4 6 1 1 2 4 6 6 2 1 1 3 1 5 5 5 1 2 5 2 4 5 6 5 1 6 5 1\n",
      " 6 2 1 1 2 4 2 3 6 1 2 4 6 2 1 1 1 2 1 1 6 2 3 2 1 6 1 3 4 1 3 5 3 2 6 5 6\n",
      " 1 5 6 1 1 6 6 5 4 1 5 1 3 2 3 3 1 1 4 6 5 2 6 1 1 1 1 2 5 6 3 6 5 4 2 4 4\n",
      " 5 5 3 1 1 6 6 6 3 5 2 5 1 6 1 6 4 1 6 5 3 2 4 6 1 5 1 2 1 5 4 1 1 3 3 3 2\n",
      " 4 1 4 1 5 6 6 1 1 1 3 3 5 5 6 1 3 1 1 5 3 1 6 2 6 1 4 3 2 5 6 2 2 4 6 2 3\n",
      " 5 2 6 6 1 3 6 2 4 6 6 1 5 1 2 6 1 2 6 6 4 6 4 6 5 1 1 6 1 6 2 2 6 6 6 6 5\n",
      " 2 1 2 1 1 6 4 3 4 6 5 1 1 6 2 1 5 2 6 6 5 6 5 1 1 5 1 6 2 4 2 6 3 1 5 5 4\n",
      " 6 1 2 5 6 6 5 1 1 6 5 1 5 4 1 2 5 4 1 3 2 1 1 2 3 2 6 1 6 1 3 6 2 1 4 2 1\n",
      " 5 6 6 4 4 1 1 3 1 3 2 4 5 1 1 5 3 4 2 1 2 6 6 2 4 2 4 5 6 6 5 6 2 1 6 6 1\n",
      " 2 3 1 2 6 3 3 6 1 6 4 1 6 6 2 3 2 4 6 6 2 4 5 1 6 6 5 3 4 1 6 3 5 3 1 3 6\n",
      " 4 1 5 3 1 6 5 6 2 3 4 4 2 1 4 2 6 4 2 6 6 1 6 1 4 6 6 3 1 5 6 6 6 6 3 6 6\n",
      " 2 2 4 5 1 6 2 1 1 1 2 1 1 1 4 1 4 6 1 6 1 2 5 2 3 1 5 5 1 5 1 2 6 1 1 3 6\n",
      " 3 3 2 6 2 5 4 6 2 4 6 5 6 2 1 3 6 6 6 6 5 1 5 6 6 4 3 3 3 5 2 2 1 5 1 3 5\n",
      " 6 5 3 6 4 6 3 6 4 5 1 4 4 3 1 6 4 1 5 5 4 6 6 1 6 5 6 1 6 4 2 3 6 1 1 1 3\n",
      " 1 1 1 5 4 1 1 3 1 1 6 4 3 6 6 6 6 6 2 4 1 1 6 6 6 1 6 4 1 5 6 1 4 2 3 3 6\n",
      " 6 5 1 5 6 5 6 1 2 4 1 4 1 2 6 2 5 1 4 2 2 5 6 5 6 2 4 6 5 3 2 4 2 6 5 6 4\n",
      " 6 3 6 1 5 2 4 1 2 1 6 4 1 3 6 4 3 6 2 1 5 6 1 5 2 2 4 2 3 1 5 2 5 2 6 6 4\n",
      " 6]\n"
     ]
    }
   ],
   "source": [
    "original_probabilities = [0.25,0.15,0.1,0.1,0.15,0.25]\n",
    "data = np.random.choice(np.arange(7)[1:], 1000, p=original_probabilities)\n",
    "print(data)"
   ]
  },
  {
   "cell_type": "code",
   "execution_count": 3,
   "metadata": {},
   "outputs": [
    {
     "name": "stdout",
     "output_type": "stream",
     "text": [
      "[241 158 104 106 144 247]\n",
      "[1 2 3 4 5 6]\n"
     ]
    }
   ],
   "source": [
    "# Histogram of categorical distribution\n",
    "x = np.histogram(data, bins=[1, 2, 3, 4, 5, 6, 7])\n",
    "print(x[0])\n",
    "print(x[1][:-1])"
   ]
  },
  {
   "cell_type": "code",
   "execution_count": 4,
   "metadata": {},
   "outputs": [
    {
     "data": {
      "image/png": "[encoded data removed]",
      "text/plain": [
       "<Figure size 432x288 with 1 Axes>"
      ]
     },
     "metadata": {
      "needs_background": "light"
     },
     "output_type": "display_data"
    }
   ],
   "source": [
    "# plt.style.use('ggplot')\n",
    "# plt.hist(data, bins=6, color = 'b')\n",
    "histogram = x[0]\n",
    "bins = x[1][:-1]\n",
    "plt.bar(np.array(bins), np.array(original_probabilities), align='center', alpha=0.5)\n",
    "plt.xlabel('Numbers')\n",
    "plt.ylabel('Times')\n",
    "plt.title('Probability of roll the dice')\n",
    "\n",
    "plt.show()"
   ]
  },
  {
   "cell_type": "code",
   "execution_count": 5,
   "metadata": {},
   "outputs": [],
   "source": [
    "def categoricalNorm(histogram, k):\n",
    "    lambda_ = histogram[k]/sum(histogram)\n",
    "    return lambda_"
   ]
  },
  {
   "cell_type": "code",
   "execution_count": 6,
   "metadata": {},
   "outputs": [],
   "source": [
    "size = bins.size\n",
    "lambdaList = np.zeros(size)\n",
    "for idx in range(size):\n",
    "    lambdaList[idx] = categoricalNorm(histogram,idx)"
   ]
  },
  {
   "cell_type": "code",
   "execution_count": 7,
   "metadata": {},
   "outputs": [
    {
     "name": "stdout",
     "output_type": "stream",
     "text": [
      "Maximum likelihood: [0.241 0.158 0.104 0.106 0.144 0.247]\n",
      "Original: [0.25, 0.15, 0.1, 0.1, 0.15, 0.25]\n"
     ]
    }
   ],
   "source": [
    "print('Maximum likelihood:', lambdaList)\n",
    "print('Original:', original_probabilities)"
   ]
  },
  {
   "cell_type": "code",
   "execution_count": 8,
   "metadata": {},
   "outputs": [
    {
     "data": {
      "image/png": "[encoded data removed]",
      "text/plain": [
       "<Figure size 432x288 with 1 Axes>"
      ]
     },
     "metadata": {
      "needs_background": "light"
     },
     "output_type": "display_data"
    }
   ],
   "source": [
    "plt.bar(np.array(bins), np.array(lambdaList), align='center', alpha=0.5, color='b')\n",
    "plt.xlabel('x', size = 14)\n",
    "plt.ylabel('Frequency', size = 14)\n",
    "plt.title('Maximum likelihood of Categorical distribution')\n",
    "\n",
    "plt.show()"
   ]
  },
  {
   "cell_type": "code",
   "execution_count": null,
   "metadata": {},
   "outputs": [],
   "source": []
  },
  {
   "cell_type": "code",
   "execution_count": null,
   "metadata": {},
   "outputs": [],
   "source": []
  }
 ],
 "metadata": {
  "kernelspec": {
   "display_name": "Python 3",
   "language": "python",
   "name": "python3"
  },
  "language_info": {
   "codemirror_mode": {
    "name": "ipython",
    "version": 3
   },
   "file_extension": ".py",
   "mimetype": "text/x-python",
   "name": "python",
   "nbconvert_exporter": "python",
   "pygments_lexer": "ipython3",
   "version": "3.6.9"
  }
 },
 "nbformat": 4,
 "nbformat_minor": 4
}
