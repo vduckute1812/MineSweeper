{
 "cells": [
  {
   "cell_type": "markdown",
   "metadata": {},
   "source": [
    "As a discrete data $\\{x_i\\}_{i=1}^{I}$  where $x_i\\in\\{1,2,...6\\}$  \n",
    "$Pr(x=k|\\lambda _1.._k) = \\prod_{k=1}^{K}{\\lambda_k^{x_k}} = \\lambda_k$"
   ]
  },
  {
   "cell_type": "markdown",
   "metadata": {},
   "source": [
    "$\\hat{\\lambda}=\\underset{\\lambda_1.._6}{argmax}\\left [ \\prod_{i=1}^{I}Pr(x_i|\\lambda_1.._6)\\right ] $\n",
    ", subject to: $\\underset{k}{\\sum}\\lambda_k=1$  \n",
    "$=\\underset{\\lambda_1.._6}{argmax}\\left [ \\prod_{i=1}^{I}Pr(x_i|\\lambda_1.._6)\\right ] $  \n",
    "$=\\underset{\\lambda_1.._6}{argmax}\\left [ \\prod_{k=1}^{K}{\\lambda_k^{x_k}}\\right ]$  \n",
    "\n",
    "Similarly, it is easier to maximize the log probability, and we use the crierion:  \n",
    "$L = \\sum_{k=1}^{6}N_k\\log{[\\lambda_k]}+\\nu\\left(\\sum_{k=1}^{6}\\lambda_k-1\\right)$   \n",
    "We differentiate L with respect to $\\lambda_k$ and $\\nu$, set the derivatives equal to zero, and solve for $\\lambda_k$ to obtain:  \n",
    "\n",
    "$\\frac{\\delta L}{\\delta\\lambda_k}=\\frac{N_k}{\\lambda_k}+\\nu$  \n",
    "$\\frac{\\delta L}{\\delta\\nu}=\\sum_{k=1}^{6}{\\lambda_k-1}$  \n",
    "\n",
    "$\\left\\{\\begin{matrix}\n",
    "&\\frac{\\delta L}{\\delta\\lambda_k}=0& \\\\\n",
    "&\\frac{\\delta L}{\\delta\\nu}=0&\n",
    "\\end{matrix}\\right.\n",
    "$  \n",
    "\n",
    "$\\left\\{\\begin{matrix}\n",
    "&\\frac{N_k}{\\lambda_k}+\\nu=0& \\\\\n",
    "&\\sum_{k=1}^{6}{\\lambda_k-1}=0&\n",
    "\\end{matrix}\\right.\n",
    "$  \n",
    "\n",
    "$\\left\\{\\begin{matrix}\n",
    "&\\frac{N_k}{\\lambda_k}+\\nu=0& \\\\\n",
    "&\\sum_{k=1}^{6}{\\left(-\\frac{N_k}{\\nu}\\right)}-1=0&\n",
    "\\end{matrix}\\right.\n",
    "$  \n",
    "\n",
    "$\\left\\{\\begin{matrix}\n",
    "&\\hat{\\lambda_k}=\\frac{N_k}{\\sum_{k=1}^{6}N_k}& \\\\\n",
    "&\\nu=-\\sum_{k=1}^{6}N_k&\n",
    "\\end{matrix} \\right.\n",
    "$"
   ]
  },
  {
   "cell_type": "code",
   "execution_count": 1,
   "metadata": {},
   "outputs": [],
   "source": [
    "import matplotlib.pyplot as plt\n",
    "import numpy as np\n",
    "import math\n",
    "from scipy import stats"
   ]
  },
  {
   "cell_type": "code",
   "execution_count": null,
   "metadata": {},
   "outputs": [],
   "source": []
  }
 ],
 "metadata": {
  "kernelspec": {
   "display_name": "Python 3",
   "language": "python",
   "name": "python3"
  },
  "language_info": {
   "codemirror_mode": {
    "name": "ipython",
    "version": 3
   },
   "file_extension": ".py",
   "mimetype": "text/x-python",
   "name": "python",
   "nbconvert_exporter": "python",
   "pygments_lexer": "ipython3",
   "version": "3.6.9"
  }
 },
 "nbformat": 4,
 "nbformat_minor": 4
}
