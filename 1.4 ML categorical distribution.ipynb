{
 "cells": [
  {
   "cell_type": "markdown",
   "metadata": {},
   "source": [
    "As a discrete data $\\{x_i\\}_{i=1}^{I}$  where $x_i\\in\\{1,2,...6\\}$  \n",
    "$Pr(x=k|\\lambda _1.._k) = \\prod_{k=1}^{K}{\\lambda_k^{x_k}} = \\lambda_k$"
   ]
  },
  {
   "cell_type": "markdown",
   "metadata": {},
   "source": [
    "$\\hat{\\lambda}=\\underset{\\lambda_1.._6}{argmax}\\left [ \\prod_{i=1}^{I}Pr(x_i|\\lambda_1.._6)\\right ] $\n",
    ", subject to: $\\underset{k}{\\sum}\\lambda_k=1$  \n",
    "$=\\underset{\\lambda_1.._6}{argmax}\\left [ \\prod_{i=1}^{I}Pr(x_i|\\lambda_1.._6)\\right ] $  \n",
    "$=\\underset{\\lambda_1.._6}{argmax}\\left [ \\prod_{k=1}^{K}{\\lambda_k^{x_k}}\\right ]$  \n",
    "\n",
    "Similarly, it is easier to maximize the log probability, and we use the crierion:  \n",
    "$L = \\sum_{k=1}^{6}N_k\\log{[\\lambda_k]}+\\nu\\left(\\sum_{k=1}^{6}\\lambda_k-1\\right)$   \n",
    "We differentiate L with respect to $\\lambda_k$ and $\\nu$, set the derivatives equal to zero, and solve for $\\lambda_k$ to obtain:  \n",
    "\n",
    "$\\frac{\\delta L}{\\delta\\lambda_k}=\\frac{N_k}{\\lambda_k}+\\nu$  \n",
    "$\\frac{\\delta L}{\\delta\\nu}=\\sum_{k=1}^{6}{\\lambda_k-1}$  \n",
    "\n",
    "$\\left\\{\\begin{matrix}\n",
    "&\\frac{\\delta L}{\\delta\\lambda_k}=0& \\\\\n",
    "&\\frac{\\delta L}{\\delta\\nu}=0&\n",
    "\\end{matrix}\\right.\n",
    "$  \n",
    "\n",
    "$\\left\\{\\begin{matrix}\n",
    "&\\frac{N_k}{\\lambda_k}+\\nu=0& \\\\\n",
    "&\\sum_{k=1}^{6}{\\lambda_k-1}=0&\n",
    "\\end{matrix}\\right.\n",
    "$  \n",
    "\n",
    "$\\left\\{\\begin{matrix}\n",
    "&\\frac{N_k}{\\lambda_k}+\\nu=0& \\\\\n",
    "&\\sum_{k=1}^{6}{\\left(-\\frac{N_k}{\\nu}\\right)}-1=0&\n",
    "\\end{matrix}\\right.\n",
    "$  \n",
    "\n",
    "$\\left\\{\\begin{matrix}\n",
    "&\\hat{\\lambda_k}=\\frac{N_k}{\\sum_{k=1}^{6}N_k}& \\\\\n",
    "&\\nu=-\\sum_{k=1}^{6}N_k&\n",
    "\\end{matrix} \\right.\n",
    "$"
   ]
  },
  {
   "cell_type": "code",
   "execution_count": 22,
   "metadata": {},
   "outputs": [],
   "source": [
    "import matplotlib.pyplot as plt\n",
    "import numpy as np\n",
    "import math\n",
    "from scipy import stats"
   ]
  },
  {
   "cell_type": "code",
   "execution_count": 53,
   "metadata": {},
   "outputs": [
    {
     "name": "stdout",
     "output_type": "stream",
     "text": [
      "[4 6 2 1 2 5 3 5 2 6 3 3 6 4 4 1 6 6 5 1 2 2 1 6 3 6 4 4 6 3 3 6 6 6 2 1 4\n",
      " 5 1 2 2 1 2 2 3 6 5 6 2 1 1 5 1 1 1 2 6 6 6 2 5 5 2 1 5 6 2 4 5 4 2 1 1 6\n",
      " 5 6 5 2 6 5 3 6 6 1 3 5 6 1 3 2 5 3 4 1 2 3 4 5 5 3]\n"
     ]
    }
   ],
   "source": [
    "original_probabilities = [0.25,0.15,0.1,0.1,0.15,0.25]\n",
    "data = np.random.choice(np.arange(7)[1:], 100, p=original_probabilities)\n",
    "print(data)"
   ]
  },
  {
   "cell_type": "code",
   "execution_count": 61,
   "metadata": {},
   "outputs": [
    {
     "name": "stdout",
     "output_type": "stream",
     "text": [
      "[18 19 13 10 17 23]\n",
      "[1 2 3 4 5 6]\n"
     ]
    }
   ],
   "source": [
    "# Histogram of categorical distribution\n",
    "x = np.histogram(data, bins=[1, 2, 3, 4, 5, 6, 7])\n",
    "print(x[0])\n",
    "print(x[1][:-1])"
   ]
  },
  {
   "cell_type": "code",
   "execution_count": 62,
   "metadata": {},
   "outputs": [
    {
     "data": {
      "image/png": "[encoded data removed]",
      "text/plain": [
       "<Figure size 432x288 with 1 Axes>"
      ]
     },
     "metadata": {},
     "output_type": "display_data"
    }
   ],
   "source": [
    "# plt.style.use('ggplot')\n",
    "# plt.hist(data, bins=6, color = 'b')\n",
    "plt.bar(np.array(x[1][:-1]), np.array(x[0]), align='center', alpha=0.5)\n",
    "plt.ylabel('Usage')\n",
    "plt.title('Programming language usage')\n",
    "\n",
    "plt.show()"
   ]
  },
  {
   "cell_type": "code",
   "execution_count": null,
   "metadata": {},
   "outputs": [],
   "source": []
  }
 ],
 "metadata": {
  "kernelspec": {
   "display_name": "Python 3",
   "language": "python",
   "name": "python3"
  },
  "language_info": {
   "codemirror_mode": {
    "name": "ipython",
    "version": 3
   },
   "file_extension": ".py",
   "mimetype": "text/x-python",
   "name": "python",
   "nbconvert_exporter": "python",
   "pygments_lexer": "ipython3",
   "version": "3.7.2"
  }
 },
 "nbformat": 4,
 "nbformat_minor": 4
}
