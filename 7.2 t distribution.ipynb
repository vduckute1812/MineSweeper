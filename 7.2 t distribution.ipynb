{
 "cells": [
  {
   "cell_type": "markdown",
   "id": "c468f259-4f3e-4d99-af75-1be442b10e0d",
   "metadata": {},
   "source": [
    "# TODO: Write theory here... "
   ]
  },
  {
   "cell_type": "code",
   "execution_count": 1,
   "id": "b8650e01-67b1-4d91-9010-599d2252e9c4",
   "metadata": {},
   "outputs": [
    {
     "data": {
      "text/plain": [
       "(-1.0, 8.0)"
      ]
     },
     "execution_count": 1,
     "metadata": {},
     "output_type": "execute_result"
    },
    {
     "data": {
      "image/png": "[encoded data removed]",
      "text/plain": [
       "<Figure size 432x288 with 1 Axes>"
      ]
     },
     "metadata": {
      "needs_background": "light"
     },
     "output_type": "display_data"
    }
   ],
   "source": [
    "import matplotlib.pyplot as plt\n",
    "import numpy as np\n",
    "\n",
    "# Generate data from one Gaussian distribution.\n",
    "N = 100;\n",
    "data_mu = [1, 2];\n",
    "data_sig = [[2, 0], [0, 0.5]];\n",
    "X = np.random.multivariate_normal(data_mu, data_sig, N)\n",
    "\n",
    "# Generate few outliers.\n",
    "N_outliers = 2;\n",
    "outliers_mu = [-4, 7];\n",
    "outliers_sig = [[0.2, 0], [0, 0.2]];\n",
    "outliers = np.random.multivariate_normal(outliers_mu, outliers_sig, N_outliers);\n",
    "x_plus_outliers = np.concatenate((X, outliers), axis=0);\n",
    "\n",
    "\n",
    "plt.plot(outliers[:, 0], outliers[:, 1], 'bx', markersize = 1.8)\n",
    "plt.plot(X[:, 0], X[:, 1], 'yo', markersize = 1.8)\n",
    "plt.xlim(-6,6)\n",
    "plt.ylim(-1,8)"
   ]
  },
  {
   "cell_type": "code",
   "execution_count": 2,
   "id": "4b34e4e3-7af1-4b8f-a52c-cde2c7e2c40b",
   "metadata": {},
   "outputs": [],
   "source": [
    "from scipy import stats\n",
    "\n",
    "def fit_mog(X, K, precision):\n",
    "    lamda = np.ones((K, 1), dtype=float) / K\n",
    "\n",
    "    # Initialize the values in mu to K randomly chosen unique datapoints.\n",
    "    mu = np.random.permutation(X)[0:K,:]\n",
    "\n",
    "    # Initialize the variances in sig to the variance of the dataset.\n",
    "    sig = []\n",
    "    I, dimensionality = X.shape\n",
    "    dataset_mean = np.sum(X, axis=0) / I\n",
    "    dataset_variance = np.zeros((dimensionality, dimensionality), dtype=float)\n",
    "    for i in range(I):\n",
    "        mat = (X[i,:] - dataset_mean)[np.newaxis]\n",
    "        mat = mat.T @ mat\n",
    "        dataset_variance = dataset_variance + mat\n",
    "\n",
    "    dataset_variance = dataset_variance / I\n",
    "        \n",
    "    for i in range(K):\n",
    "        sig.append(dataset_variance)\n",
    "    \n",
    "    # The main loop.\n",
    "    iterations = 0\n",
    "    previous_L = 1000000 #Just a random initialization\n",
    "    \n",
    "    while True:\n",
    "        # Expectation step.\n",
    "        l = np.zeros((I, K))\n",
    "        r = np.zeros((I, K))\n",
    "        \n",
    "        # Compute the numerator of Bayes' rule.\n",
    "        for k in range (K):\n",
    "            l[:,k] = lamda[k] * stats.multivariate_normal.pdf(X, mu[k,:], sig[k])\n",
    "            \n",
    "        s = np.sum(l, axis=1)\n",
    "        for i in range(I):\n",
    "            r[i,:] = l[i,:] / s[i]\n",
    "        # Maximization step.\n",
    "        r_summed_rows = np.sum(r,axis=0)\n",
    "        r_summed_all = np.sum(np.sum(r,axis=0), axis=0)\n",
    "        for k in range(K):\n",
    "            \n",
    "            # Update lambda.\n",
    "            lamda[k] = r_summed_rows[k] / r_summed_all       \n",
    "\n",
    "            # Update mu\n",
    "            new_mu = np.zeros((1,dimensionality), dtype=float)\n",
    "            for i in range(I):\n",
    "                new_mu = new_mu + r[i,k]*X[i,:]\n",
    "                \n",
    "            mu[k,:] = new_mu / r_summed_rows[k]\n",
    "            # Update sigma.\n",
    "            new_sigma = np.zeros((dimensionality,dimensionality), dtype=float)\n",
    "            for i in range(I):\n",
    "                mat = (X[i,:] - mu[k,:])[np.newaxis]\n",
    "                mat = r[i,k] * mat.T @ mat\n",
    "                new_sigma = new_sigma + mat                \n",
    "            sig[k] = new_sigma / r_summed_rows[k]\n",
    "        # Compute the log likelihood L.\n",
    "        temp = np.zeros((I,K), dtype=float)\n",
    "        \n",
    "        for k in range(K):\n",
    "            temp[:, k] = lamda[k] * stats.multivariate_normal.pdf(X, mu[k,:], sig[k])\n",
    "\n",
    "        temp = np.sum(temp, axis=1)\n",
    "        temp = np.log(temp)        \n",
    "        L = np.sum(temp, axis=0)  \n",
    "        iterations = iterations + 1\n",
    "        if (abs(L - previous_L) < precision):\n",
    "            break\n",
    "        previous_L = L\n",
    "    return lamda, mu, sig\n",
    "lamda2, mu2, sig2 = fit_mog(X, 2, 0.02)\n",
    "# Fit a Gaussian to the original data and to the data with outliers.\n",
    "lamda1, mu1, sig1 = fit_mog (X, 1, 0.01)\n",
    "lamda2, mu2, sig2 = fit_mog (x_plus_outliers, 1, 0.01)"
   ]
  },
  {
   "cell_type": "code",
   "execution_count": 3,
   "id": "446892fe-9ea6-44f9-a21a-44e131aaa5fd",
   "metadata": {},
   "outputs": [],
   "source": [
    "def prepare_mog_model(lamda, mu, sig, n):\n",
    "    # Compute the first Gaussian as a matrix.\n",
    "    mog = 0\n",
    "    K, _ = mu.shape\n",
    "    for index in range(K):\n",
    "        # Now combine the two Gaussians with the corresponding weights in lambda,\n",
    "        # to obtain the final mixture of Gaussians.\n",
    "        temp = stats.multivariate_normal.pdf(x_y_matrix, mu[index,:], sig[index])\n",
    "        gaussian = temp.reshape(n, n)\n",
    "        mog += lamda[index]*gaussian\n",
    "    return mog"
   ]
  },
  {
   "cell_type": "code",
   "execution_count": 4,
   "id": "be4dd783-91a6-4677-a4e4-82fca3e58b10",
   "metadata": {},
   "outputs": [
    {
     "data": {
      "text/plain": [
       "(-1.0, 9.0)"
      ]
     },
     "execution_count": 4,
     "metadata": {},
     "output_type": "execute_result"
    },
    {
     "data": {
      "image/png": "[encoded data removed]",
      "text/plain": [
       "<Figure size 432x288 with 1 Axes>"
      ]
     },
     "metadata": {
      "needs_background": "light"
     },
     "output_type": "display_data"
    }
   ],
   "source": [
    "X_1_vals = np.arange(-10, 10, 0.01)\n",
    "X_2_vals = np.arange(-10, 10, 0.01)\n",
    "XX, YY = np.meshgrid(X_1_vals, X_2_vals)\n",
    "size_ = XX.size\n",
    "x = XX.reshape(size_,1)\n",
    "y = YY.reshape(size_,1)\n",
    "x_y_matrix = np.hstack((x,y))\n",
    "n = len(XX)\n",
    "\n",
    "mog1 = prepare_mog_model(lamda1, mu1, sig1, n)\n",
    "mog2 = prepare_mog_model(lamda2, mu2, sig2, n)\n",
    "\n",
    "# Create the contour plot.\n",
    "plt.plot(x_plus_outliers[:, 0], x_plus_outliers[:, 1], 'yo', markersize = 2, alpha = .8)\n",
    "plt.contour(XX,YY,mog1, colors=['b'], linewidths=0.5)\n",
    "plt.contour(XX,YY,mog2, linestyles='dashed', corner_mask=False,linewidths=0.5, nchunk=0)\n",
    "plt.xlim(-6,6)\n",
    "plt.ylim(-1,9)\n"
   ]
  },
  {
   "cell_type": "code",
   "execution_count": 7,
   "id": "3bf93729-8d39-4ca3-b7ac-8ed0ce8dad75",
   "metadata": {},
   "outputs": [],
   "source": [
    "def fit_t(X, precision):\n",
    "    I, D = X.shape\n",
    "    # Initialize mu to the mean of the dataset.\n",
    "    dataset_mean = np.sum(X, axis=1) / I\n",
    "    mu = dataset_mean\n",
    "    # Initialize sig to the covariance of the dataset.\n",
    "    dataset_variance = np.zeros((D, D))\n",
    "    x_minus_dataset_mean = X - dataset_mean\n",
    "    for i in range(I):\n",
    "        mat = x_minus_dataset_mean[i,:]\n",
    "        mat = mat.T @ mat\n",
    "        dataset_variance = dataset_variance + mat\n",
    "    dataset_variance = dataset_variance / I\n",
    "    sig = dataset_variance\n",
    "    \n",
    "    # Initialize degrees of freedom to 1000 (just a random large value).\n",
    "    nu = 1000\n",
    "    \n",
    "    # The main loop.\n",
    "    iterations = 0\n",
    "    previous_L = 1000000 # just a random initialization\n",
    "    delta = np.zeros((I,1))\n",
    "    \n",
    "    while true\n",
    "    # Expectation step.\n",
    "    # Compute delta.\n",
    "    x_minus_mu = X - mu\n",
    "    temp = x_minus_mu / sig\n",
    "    for i in range(I):\n",
    "        delta[i] = temp[i,:] @ x_minus_mu[i,:].T\n",
    "    \n"
   ]
  },
  {
   "cell_type": "code",
   "execution_count": null,
   "id": "4c68d86d-17b4-4416-9f6f-a8fe3a7cc053",
   "metadata": {},
   "outputs": [],
   "source": []
  }
 ],
 "metadata": {
  "kernelspec": {
   "display_name": "Python 3",
   "language": "python",
   "name": "python3"
  },
  "language_info": {
   "codemirror_mode": {
    "name": "ipython",
    "version": 3
   },
   "file_extension": ".py",
   "mimetype": "text/x-python",
   "name": "python",
   "nbconvert_exporter": "python",
   "pygments_lexer": "ipython3",
   "version": "3.8.0"
  }
 },
 "nbformat": 4,
 "nbformat_minor": 5
}
