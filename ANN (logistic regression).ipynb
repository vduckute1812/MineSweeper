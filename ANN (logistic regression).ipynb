{
 "cells": [
  {
   "cell_type": "code",
   "execution_count": 15,
   "metadata": {},
   "outputs": [
    {
     "name": "stdout",
     "output_type": "stream",
     "text": [
      "(100, 401)\n"
     ]
    }
   ],
   "source": [
    "from scipy.io import loadmat\n",
    "import numpy as np\n",
    "import math\n",
    "\n",
    "data = loadmat('ex3data1.mat')\n",
    "data.keys()\n",
    "\n",
    "X = np.c_[np.ones( data['X'].shape[0] ), data['X']]\n",
    "# X = np.array(data['X'])\n",
    "y = np.array(data['y'])\n",
    "m = X.shape[1]\n",
    "mix_id = np.random.permutation(m)[:100]\n",
    "X = X[mix_id]\n",
    "edge_size = math.sqrt(m)\n",
    "print(X.shape)"
   ]
  },
  {
   "cell_type": "code",
   "execution_count": 13,
   "metadata": {},
   "outputs": [],
   "source": [
    "import matplotlib.pyplot as plt\n",
    "\n",
    "def displayData(X):\n",
    "    m, n = X.shape\n",
    "    img_width = math.floor(math.sqrt(n))\n",
    "    img_height = math.floor(n / img_width)\n",
    "\n",
    "    display_rows = math.floor(math.sqrt(m))\n",
    "    display_cols = math.ceil(m / display_rows)\n",
    "    pad = 1\n",
    "    # setup back display\n",
    "    display_array = np.zeros((pad + display_rows*(img_height+pad), pad+display_cols*(img_width+pad)))\n",
    "    curr_ex = 0\n",
    "    for i in range(display_rows):\n",
    "        for j in range(display_cols):\n",
    "            if curr_ex >= m:\n",
    "                break\n",
    "            X_ = pad+(j-1)*(img_height+pad)+np.arange(img_height)\n",
    "            y_ = pad+(i-1)*(img_width+pad)+np.arange(img_width)\n",
    "#             data = display_array[X_, :]\n",
    "#             data = data[:, y_]\n",
    "            display_array[X_, y_] = X[curr_ex, :].reshape(img_height, img_width)\n",
    "            data = X[curr_ex, :].reshape(img_height, img_width)\n",
    "            curr_ex += 1\n",
    "        \n",
    "        if curr_ex >= m:\n",
    "            break\n",
    "    \n",
    "    plt.imshow(display_array)\n",
    "\n",
    "displayData(X)"
   ]
  },
  {
   "cell_type": "code",
   "execution_count": 16,
   "metadata": {},
   "outputs": [],
   "source": [
    "def sigmoid(x):\n",
    "    return 1 / ( 1 + np.exp(-x) )\n"
   ]
  },
  {
   "cell_type": "code",
   "execution_count": 17,
   "metadata": {},
   "outputs": [],
   "source": [
    "def reg_cost_function( theta, X, y, lmda ):  # lmda, *args ):\n",
    "    m = X.shape[0]\n",
    "    h = sigmoid( np.dot(X, theta) )\n",
    "\n",
    "    J = (-1/m) * ( y.T.dot( np.log(h) ) + (1 - y.T).dot( np.log( 1 - h ) ) ) + ( lmda/(2*m) ) * np.sum( np.square(theta[1:]) )\n",
    "\n",
    "    if np.isnan(J[0]):\n",
    "        return(np.inf)\n",
    "    return ( J[0] )"
   ]
  },
  {
   "cell_type": "code",
   "execution_count": null,
   "metadata": {},
   "outputs": [],
   "source": []
  }
 ],
 "metadata": {
  "kernelspec": {
   "display_name": "Python 3",
   "language": "python",
   "name": "python3"
  },
  "language_info": {
   "codemirror_mode": {
    "name": "ipython",
    "version": 3
   },
   "file_extension": ".py",
   "mimetype": "text/x-python",
   "name": "python",
   "nbconvert_exporter": "python",
   "pygments_lexer": "ipython3",
   "version": "3.6.9"
  }
 },
 "nbformat": 4,
 "nbformat_minor": 4
}
