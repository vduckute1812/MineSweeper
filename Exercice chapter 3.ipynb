{
 "cells": [
  {
   "cell_type": "markdown",
   "id": "sixth-performer",
   "metadata": {},
   "source": [
    "**Problem 3.1** Consider a variable x which Bernoulli distributed with parameter $\\lambda$. Show that the mean E[x] is $\\lambda$ and the vaiance $E[(x-E[x]^2)]$ is $\\lambda(1-\\lambda)$\n",
    "\n",
    "> $E[x] = 1(\\lambda) + 0(1-\\lambda)=\\lambda$  \n",
    "$E[x^2-2xE[x]+E[x]^2]=E[x^2]-\\lambda^2=1^2\\lambda+0^2(1-\\lambda)-\\lambda^2=\\lambda(1-\\lambda)$"
   ]
  },
  {
   "cell_type": "markdown",
   "id": "female-promise",
   "metadata": {},
   "source": [
    "**Problem 3.2** Calculate an expression for the mode (position of the peak) of the beta distribution with $\\alpha, \\beta > 1$ in terms of the parameters $\\alpha$ and $\\beta$.\n",
    "\n",
    "> Beta distribution: $\\frac{\\Gamma [\\alpha+\\beta]}{\\Gamma[\\alpha]\\Gamma[\\beta]}\\lambda^{\\alpha-1}(1-\\lambda)^{\\beta-1}$  \n",
    "$Peak: \\frac{\\alpha-1}{\\alpha+\\beta-2}$"
   ]
  },
  {
   "cell_type": "markdown",
   "id": "empty-profit",
   "metadata": {},
   "source": [
    "**Prblem 3.3** The mean and variance of the beta distribution are given by the expressions:  \n",
    "$E[\\lambda] = \\mu = \\frac{\\alpha}{\\alpha+\\beta}$  \n",
    "$E[(\\lambda-\\mu)^2] = \\sigma^2 = \\frac{\\alpha\\beta}{(\\alpha+\\beta)^2(\\alpha+\\beta+1)}$  \n",
    "We may wish to choose the parameters $\\alpha$ and $\\beta$ so that the distribution has a particular mean $\\mu$ and variance $\\sigma^2$. Derive suitable expressions for $\\alpha$ and $\\beta$ in terms of $\\mu$ and $\\sigma^2$.\n",
    "\n",
    "> when $\\alpha = \\beta$  \n",
    "$E[\\lambda]=\\frac{1}{2}$  \n",
    "$E[(\\lambda-\\mu)^2]=\\frac{1}{4}$  *Only occur at the limit*"
   ]
  },
  {
   "cell_type": "markdown",
   "id": "plain-laptop",
   "metadata": {},
   "source": [
    "**Problem 3.4** All the distributions in this chapter are members of the *exponential family* and can be written in the form  \n",
    "$Pr(x|\\theta)=a[x]exp[b[\\theta]^Tc[x]-d[\\theta]]$\n",
    "> $a[x] = 1$  \n",
    "$b[\\theta]^T =  \\begin{bmatrix} \\alpha-1 \\\\ \\beta-1 \\end{bmatrix}^T$  \n",
    "$c[x]=\\begin{bmatrix}log(\\lambda) \\\\ log(1-\\lambda) \\end{bmatrix}$  \n",
    "$d[\\theta]=log(\\alpha)+log(\\beta)-log(\\alpha+\\beta)$  \n"
   ]
  },
  {
   "cell_type": "markdown",
   "id": "superior-breakfast",
   "metadata": {},
   "source": [
    "**Problem 3.5** Use interation by parts to prove that if  \n",
    "$\\Gamma[z]=\\int_{0}^{\\infty}t^{z-1}e^{-t}dt$  \n",
    "then  \n",
    "$\\Gamma[z+1]=z\\Gamma[z]$\n",
    "> $\\Gamma[z+1]=\\int_{0}^{\\infty}t^ze^{-t}dt$  \n",
    "Use intergration by parts.  \n",
    "$\\left\\{\\begin{matrix}u=t^z\\\\ dv= e^{-t}dt \\end{matrix}\\right. \n",
    "\\Leftrightarrow \\left\\{\\begin{matrix}du=z.t^{z-1}dt\\\\ v= -e^{-t} \\end{matrix}\\right.$  \n",
    "$\\Rightarrow \\Gamma[z+1] = \\left.\\begin{matrix}(-t^z.e^{-t}) \\end{matrix}\\right|_{0}^{\\infty} - \\int_{0}^{\\infty}-zt^{z-1}e^{-t}dt$  \n",
    "$= z\\int_{0}^{\\infty}t^{z-1}e^{-t}dt =z\\Gamma[z]$"
   ]
  },
  {
   "cell_type": "markdown",
   "id": "selective-hormone",
   "metadata": {},
   "source": [
    "**Problem 3.6** Consider a restricted of univariate normal distributions where the variance is always 1, so that  \n",
    "$Pr(x|\\mu)=\\frac{1}{\\sqrt{2\\pi}}exp[-0.5(x-\\mu)^2]$  \n",
    "Show that a mormal distribution over the parameter $\\mu$  \n",
    "$Pr(\\mu)=Norm_{\\mu}[\\mu_p,\\sigma_p^2]$  \n",
    "> ... Advange, no need to do, check solution in book"
   ]
  },
  {
   "cell_type": "markdown",
   "id": "living-consensus",
   "metadata": {},
   "source": [
    "**Problem 3.7** For the univariate normal distribution, find the functions $a[x],b[\\theta],c[x]$ and $d[\\theta]$ that allow it to be represented in the generalized form of the exponential family (see problem 3.4)  \n",
    "> ... Advange, no need to do, check solution in book"
   ]
  },
  {
   "cell_type": "markdown",
   "id": "regular-savage",
   "metadata": {},
   "source": [
    "**Problem 3.8** Calculate an expression for the mode (position of the peak in $\\mu,\\sigma^2$ space) of the normal scaled inverse gamma distribution in terms of the parameters $\\alpha,\\beta,\\gamma,\\delta$.  \n",
    "> Check on wiki:  \n",
    "Mode if:  \n",
    "$x =\\mu$  \n",
    "$\\sigma^2=\\frac{\\beta}{\\alpha+1+\\frac{1}{2}}$"
   ]
  },
  {
   "cell_type": "markdown",
   "id": "blessed-stocks",
   "metadata": {},
   "source": [
    "**Problem 3.9** Show that the more general form of the conjugate relation in which we mutify I Bernoulli distributins by the conjugate beta prior is given by  \n",
    "$\\prod_{i=1}^{I}Bern_{x_i}[\\lambda]Beta_{\\lambda}[\\alpha,\\beta]=\\kappa.Beta_\\lambda[\\tilde{\\alpha},\\tilde{\\beta}]$  "
   ]
  },
  {
   "cell_type": "markdown",
   "id": "based-brave",
   "metadata": {},
   "source": [
    "> $=\\frac{\\Gamma[\\alpha+\\beta]}{\\Gamma[\\alpha\\beta]}\\lambda^{\\sum_ix_i+\\alpha-1}(1-\\lambda)^{I-\\sum_ix_i+\\beta-1}$  \n",
    "$=\\frac{\\Gamma[\\alpha+\\beta].\\Gamma\\left[\\sum_ix_i+\\alpha\\right].\\Gamma\\left[I-\\sum_ix_i+\\beta\\right]}{\\Gamma[\\alpha]\\Gamma[\\beta]\\Gamma[I+\\alpha\\beta]}.Beta_\\lambda[\\sum{x_i}+\\alpha, I-\\sum{x_i}+\\beta]$"
   ]
  },
  {
   "cell_type": "markdown",
   "id": "educated-rover",
   "metadata": {},
   "source": [
    "**Problem 3.10** Prove the conjugate relation:  \n",
    "$\\prod_{i=1}^ICat[\\lambda_{1...K}]Dir_{1...K}[\\alpha_1...K]=\\kappa.Dir_{\\lambda_{1...K}}[\\tilde{\\alpha}_{1...K}]$\n",
    "> ...Advange, no need to do, check solution in book. The same with problem 3.8"
   ]
  },
  {
   "cell_type": "markdown",
   "id": "operating-apparel",
   "metadata": {},
   "source": [
    "**Problem 3.11** Show that the conjugate relation between the normal and normal inverse gamma is given by:  \n",
    "$\\prod_{i=1}^{I}Norm_{x_i}[\\mu,\\sigma^2].NormInvGam_{\\mu,\\sigma^2}[\\alpha,\\beta,\\gamma,\\delta]=\\kappa.NormIvGam_{\\mu,\\sigma^2}[\\tilde{\\alpha},\\tilde{\\beta},\\tilde{\\gamma},\\tilde{\\delta}]$"
   ]
  },
  {
   "cell_type": "markdown",
   "id": "metropolitan-vanilla",
   "metadata": {},
   "source": [
    "$=\\frac{\\sqrt(\\gamma)\\beta^\\alpha}{2\\pi\\sigma^2\\Gamma[\\alpha]}\\left(\\frac{1}{\\sigma^2}\\right)^{\\alpha+1}.exp\\left[-\\frac{2\\beta+\\gamma(\\delta-\\mu)^2+$$(x-\\mu)^2}{2\\sigma^2}\\right]=\\kappa.exp\\left[-\\frac{1}{2\\sigma^2}\\left(2\\left(\\frac{\\sum_ix^2_i}{2}+\\beta+\\frac{\\gamma\\delta^2}{2}-\\frac{(\\gamma\\delta+\\sum_ix^2_i)^2}{2(\\gamma+I)}\\right)+(\\gamma+I)\\left(\\mu-\\frac{(\\gamma\\delta+\\sum_ix_i)}{\\gamma+I}\\right)^2\\right)\\right]$"
   ]
  },
  {
   "cell_type": "markdown",
   "id": "illegal-rider",
   "metadata": {},
   "source": [
    "**Problem 3.12**\n",
    "> ...Advange, no need to do, check solution in book. The same with problem 3.8"
   ]
  },
  {
   "cell_type": "code",
   "execution_count": null,
   "id": "falling-chess",
   "metadata": {},
   "outputs": [],
   "source": []
  }
 ],
 "metadata": {
  "kernelspec": {
   "display_name": "Python 3",
   "language": "python",
   "name": "python3"
  },
  "language_info": {
   "codemirror_mode": {
    "name": "ipython",
    "version": 3
   },
   "file_extension": ".py",
   "mimetype": "text/x-python",
   "name": "python",
   "nbconvert_exporter": "python",
   "pygments_lexer": "ipython3",
   "version": "3.6.9"
  }
 },
 "nbformat": 4,
 "nbformat_minor": 5
}
