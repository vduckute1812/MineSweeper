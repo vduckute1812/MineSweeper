{
 "cells": [
  {
   "cell_type": "markdown",
   "metadata": {},
   "source": [
    "```Utils: https://www.codecogs.com/latex/eqneditor.php```\n",
    "\n",
    "## ***Task list***\n",
    "- [x] Bernoulli distribution\n",
    "- [x] Beta distribution\n",
    "- [ ] Categorical distribution\n",
    "- [ ] Dirichlet distribution\n",
    "- [ ] Univariate normal distribution\n",
    "- [ ] Normal scale inverse gamma distribution\n",
    "- [ ] Multivariate normal distribution\n",
    "- [ ] Normal inverse Wishart distribution\n",
    "- [ ] Conjugacy\n",
    "- [ ] Summary"
   ]
  },
  {
   "cell_type": "markdown",
   "metadata": {},
   "source": [
    "### Bernouli distribution\n",
    "   \n",
    "The Bernoulli distribution (figure 3.1) is a discrete distribution that models binary\n",
    "trials: it describes the situation where there are only two possible outcomes $x\\in \\left \\{ 0,1 \\right \\}$ which are referred to as \"failure\" and \"success.\"  In machine vision, the Bernoulli distribution could be used to model the data. For example, it might describe the probability of a pixel taking an intensity value of greater or less than 128 _(threshold)_. Alternatively, it could be used to model the state of the world. For example, it might describe the probability that a face is present or absent in the image.\n",
    "\n",
    "\n",
    "The Bernoulli has a single parameter $\\lambda \\in \\left [  0, 1\\right ]$ which defines the probability of observing a success x = 1. The distribution is hence\n",
    "\n",
    "$Pr(x=0) = 1-\\lambda$.\n",
    "\n",
    "$Pr(x=1) = \\lambda$.\n",
    "\n",
    "We can alternatively express this as: \n",
    "$Pr(x) = \\lambda ^{x}(1-\\lambda )^{1-x}$.\n"
   ]
  },
  {
   "cell_type": "markdown",
   "metadata": {},
   "source": [
    "### Beta distribution\n",
    "The _beta distribution_ is a continuous distribution defined on single variable  $\\lambda$ where $\\lambda \\in \\left [  0, 1\\right ]$ . As such it is suitable for representing uncertainty in the parameter $\\lambda$ of the Bernoulli distribution.  \n",
    "The beta distribution has two parameters $\\alpha, \\beta  \\in \\left [  0, \\infty\\right ]$ which both take positive values and affect the shape of the curve of model. Mathematically, the beta distribution has the form\n",
    "\n",
    "$Pr(\\lambda )= \n",
    "\\frac{\\Gamma \\left [ \\alpha + \\beta  \\right ]}{\\Gamma \\left [ \\alpha \\right ].\\Gamma \\left [\\beta  \\right ]}\\lambda ^{\\alpha -1}(1-\\lambda )^{\\beta -1}$  \n",
    "_where_ $\\Gamma \\left [*  \\right ]$ is the gamma function  \n",
    "\n",
    "Derived by Daniel Bernoulli, for complex numbers with a positive real part the gamma function is defined via a convergent improper integral:  \n",
    "$\\Gamma (z) = \\int_{0}^{\\infty }x^{z-1}e^{-x}dx,  \\Re(z)>0$  is closely related to factorials, so\n",
    "that for positive integers $\\Gamma (z) = (z-1)!$ and $\\Gamma (z+1) = z.\\Gamma (z)$ \n",
    "\n"
   ]
  }
 ],
 "metadata": {
  "kernelspec": {
   "display_name": "Python 3",
   "language": "python",
   "name": "python3"
  },
  "language_info": {
   "codemirror_mode": {
    "name": "ipython",
    "version": 3
   },
   "file_extension": ".py",
   "mimetype": "text/x-python",
   "name": "python",
   "nbconvert_exporter": "python",
   "pygments_lexer": "ipython3",
   "version": "3.6.9"
  }
 },
 "nbformat": 4,
 "nbformat_minor": 4
}
