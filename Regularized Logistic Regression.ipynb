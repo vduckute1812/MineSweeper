{
 "cells": [
  {
   "cell_type": "markdown",
   "metadata": {},
   "source": [
    "**formula**  \n",
    "$J(x) = \\frac{1}{2m}\\sum_{i=1}^{m}(\\theta.x_i - y_i)^2 + \\frac{\\lambda}{2m}\\sum{\\theta^2}$  \n",
    "$\\theta=\\theta - \\alpha \\frac{\\delta }{\\delta \\theta}J(x) + \\frac{\\lambda}{m}\\theta$"
   ]
  },
  {
   "cell_type": "code",
   "execution_count": 1,
   "metadata": {},
   "outputs": [],
   "source": [
    "import matplotlib.pyplot as plt\n",
    "import numpy as np\n",
    "\n",
    "def plotData(X, y):\n",
    "    pos = np.where(y == 1)\n",
    "    neg = np.where(y == 0)\n",
    "    plt.scatter(X[pos,0],X[pos,1],c=\"r\",marker=\"+\", label='y=1')\n",
    "    plt.scatter(X[neg,0],X[neg,1],marker=\"o\",s=10, label='y=0')\n",
    "    plt.xlabel(\"Test 1\")\n",
    "    plt.ylabel(\"Test 2\")\n",
    "    plt.legend()\n",
    "#     plt.plot(X[pos, 0], X[pos, 1], 'k+', lw = 50, ms=7)\n",
    "#     plt.plot(X[neg, 0], X[neg, 1], 'ko', color='y', ms=7)\n",
    "    \n"
   ]
  },
  {
   "cell_type": "code",
   "execution_count": 2,
   "metadata": {},
   "outputs": [
    {
     "data": {
      "image/png": "[encoded data removed]",
      "text/plain": [
       "<Figure size 432x288 with 1 Axes>"
      ]
     },
     "metadata": {
      "needs_background": "light"
     },
     "output_type": "display_data"
    }
   ],
   "source": [
    "# ======================= Part 1 Plotting =======================\n",
    "import os\n",
    "data = np.loadtxt(\"ex2data2.txt\", delimiter=',')\n",
    "X = data[:, [0, 1]]\n",
    "y = data[:, 2, np.newaxis]\n",
    "plotData(X, y)"
   ]
  },
  {
   "cell_type": "code",
   "execution_count": 3,
   "metadata": {},
   "outputs": [],
   "source": [
    "def sigmoid(z):\n",
    "    return 1 / (1 + np.exp(-z))"
   ]
  },
  {
   "cell_type": "code",
   "execution_count": 4,
   "metadata": {},
   "outputs": [],
   "source": [
    "def costFunctionReg(theta, X, y, _lambda):\n",
    "    m = len(y)\n",
    "    k = len(theta)\n",
    "    I = np.eye(k)\n",
    "    I[0, 0] = 0\n",
    "    Z = X.dot(theta)\n",
    "    h = sigmoid(Z)\n",
    "    S = np.zeros((k, 1), dtype=float)\n",
    "    J = -1 / (m) * (np.transpose(y)@(np.log(h)) + np.transpose(1-y)@(np.log(1-h))) + _lambda / (2*m)*np.sum((I@theta)**2, axis=0)\n",
    "\n",
    "    error = h - y\n",
    "    for i in range(k):\n",
    "        S[i] = np.sum(error*X[:,i, np.newaxis], axis=0) + _lambda * (theta[i]*I[i,i])\n",
    "    grad = 1 / m * S\n",
    "    \n",
    "    return J, grad"
   ]
  },
  {
   "cell_type": "code",
   "execution_count": 5,
   "metadata": {},
   "outputs": [
    {
     "data": {
      "text/plain": [
       "(array([[0.69314718]]),\n",
       " array([[1.87880932e-02],\n",
       "        [7.77711864e-05]]))"
      ]
     },
     "execution_count": 5,
     "metadata": {},
     "output_type": "execute_result"
    }
   ],
   "source": [
    "initial_theta = np.zeros((len(X[0,:]), 1), dtype=float);\n",
    "costFunctionReg(initial_theta, X, y, 1)"
   ]
  },
  {
   "cell_type": "code",
   "execution_count": 6,
   "metadata": {},
   "outputs": [],
   "source": [
    "# https://www.coursera.org/learn/machine-learning/discussions/weeks/3/threads/poUNvD1-EeakuhJbRt69hQ\n",
    "def mapFeature(x1, x2, degree):\n",
    "    \"\"\"\n",
    "    take in numpy array of x1 and x2, return all polynomial terms up to the given degree\n",
    "    \"\"\"\n",
    "    \n",
    "    out = np.ones(x1.shape)[:, np.newaxis]\n",
    "    for i in range(1, degree+1):\n",
    "        for j in range(i+1):\n",
    "            terms= (x1**(i-j) * x2**j)[:, np.newaxis]\n",
    "            out= np.hstack((out,terms))\n",
    "    return out\n"
   ]
  },
  {
   "cell_type": "code",
   "execution_count": 7,
   "metadata": {},
   "outputs": [],
   "source": [
    "X_ = mapFeature(X[:, 0], X[:, 1], 6)\n",
    "initial_theta = np.zeros((len(X_[0, :]), 1))\n",
    "_lambda = 1\n",
    "cost, grad = costFunctionReg(initial_theta, X_, y, _lambda)"
   ]
  },
  {
   "cell_type": "code",
   "execution_count": 8,
   "metadata": {},
   "outputs": [],
   "source": [
    "def gradientDescent(X,y,theta,alpha,num_iters,_lambda):\n",
    "    J_history = np.zeros((num_iters, 1), dtype=float)\n",
    "    for i in range(num_iters):\n",
    "        cost, grad = costFunctionReg(theta,X,y,_lambda)\n",
    "        theta = theta - (alpha * grad)\n",
    "        J_history[i] = cost\n",
    "\n",
    "    return theta , J_history"
   ]
  },
  {
   "cell_type": "code",
   "execution_count": 9,
   "metadata": {},
   "outputs": [
    {
     "data": {
      "text/plain": [
       "<matplotlib.legend.Legend at 0x7f2eab471828>"
      ]
     },
     "execution_count": 9,
     "metadata": {},
     "output_type": "execute_result"
    },
    {
     "data": {
      "image/png": "[encoded data removed]",
      "text/plain": [
       "<Figure size 432x288 with 1 Axes>"
      ]
     },
     "metadata": {
      "needs_background": "light"
     },
     "output_type": "display_data"
    }
   ],
   "source": [
    "theta , J_history = gradientDescent(X_,y,initial_theta,1,800,0.2)\n",
    "u = np.linspace(-1, 1.5, 50)\n",
    "v = np.linspace(-1, 1.5, 50)\n",
    "z = np.zeros((len(u), len(v)))\n",
    "\n",
    "map_ = mapFeature(u, v, 6)\n",
    "\n",
    "for i in range(len(u)):\n",
    "    for j in range(len(v)):\n",
    "        z[i,j] = mapFeature(np.array([u[i]]), np.array([v[j]]), 6) @ theta\n",
    "\n",
    "\n",
    "pos = (y == 1)\n",
    "neg = (y == 0)\n",
    "plt.scatter(X[pos[:,0],0],X[pos[:,0],1],c=\"r\",marker=\"+\", label='y=1')\n",
    "plt.scatter(X[neg[:,0],0],X[neg[:,0],1],marker=\"o\",s=10, label='y=0')\n",
    "        \n",
    "plt.contour(u,v,z,0)\n",
    "plt.xlabel(\"Exam 1 score\")\n",
    "plt.ylabel(\"Exam 2 score\")\n",
    "plt.legend()"
   ]
  },
  {
   "cell_type": "code",
   "execution_count": 10,
   "metadata": {},
   "outputs": [],
   "source": [
    "def predict(theta, X):\n",
    "    '''Predict whether the label\n",
    "    is 0 or 1 using learned logistic\n",
    "    regression parameters '''\n",
    "\n",
    "    Z = X.dot(theta)\n",
    "    h = sigmoid(Z)\n",
    "\n",
    "    return h>=0.5"
   ]
  },
  {
   "cell_type": "code",
   "execution_count": 11,
   "metadata": {},
   "outputs": [
    {
     "name": "stdout",
     "output_type": "stream",
     "text": [
      "Train Accuracy: 83.050847\n"
     ]
    }
   ],
   "source": [
    "#Compute accuracy on our training set\n",
    "p = predict(theta, X_)\n",
    "print('Train Accuracy: {:f}'.format(((y[np.where(p == y)].size / float(y.size)) * 100.0)))"
   ]
  },
  {
   "cell_type": "code",
   "execution_count": 12,
   "metadata": {},
   "outputs": [
    {
     "data": {
      "text/plain": [
       "Text(0.5, 1.0, 'Cost function using Gradient Descent')"
      ]
     },
     "execution_count": 12,
     "metadata": {},
     "output_type": "execute_result"
    },
    {
     "data": {
      "image/png": "[encoded data removed]",
      "text/plain": [
       "<Figure size 432x288 with 1 Axes>"
      ]
     },
     "metadata": {
      "needs_background": "light"
     },
     "output_type": "display_data"
    }
   ],
   "source": [
    "plt.plot(J_history)\n",
    "plt.xlabel(\"Iteration\")\n",
    "plt.ylabel(\"$J(\\Theta)$\")\n",
    "plt.title(\"Cost function using Gradient Descent\")"
   ]
  },
  {
   "cell_type": "code",
   "execution_count": null,
   "metadata": {},
   "outputs": [],
   "source": []
  }
 ],
 "metadata": {
  "kernelspec": {
   "display_name": "Python 3",
   "language": "python",
   "name": "python3"
  },
  "language_info": {
   "codemirror_mode": {
    "name": "ipython",
    "version": 3
   },
   "file_extension": ".py",
   "mimetype": "text/x-python",
   "name": "python",
   "nbconvert_exporter": "python",
   "pygments_lexer": "ipython3",
   "version": "3.6.9"
  }
 },
 "nbformat": 4,
 "nbformat_minor": 4
}
