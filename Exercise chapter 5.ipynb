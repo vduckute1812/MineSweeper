{
 "cells": [
  {
   "cell_type": "markdown",
   "id": "dd51a0e1-9fa0-431e-b4e1-4836543cdf8f",
   "metadata": {},
   "source": [
    "***Problem 5.1:*** Consider a multivariate normal distribution in variable **x** with mean $\\mu$  and covariance $\\sum$. Sho that if we make the linear transformation **y = Ax+b** then we transformed varable **y** is distributed as:  \n",
    "\n",
    "$Pr(y) = Norm_{y}\\left[A\\mu+b,A \\sum A^T\\right]$\n"
   ]
  },
  {
   "cell_type": "markdown",
   "id": "20fc0b04-ebe3-4686-99e9-f7d58a4c4216",
   "metadata": {},
   "source": [
    "> $Pr(x) = Norm_x\\left[\\mu, \\sum\\right] = \\frac{1}{(2\\pi)^{D/2}\\left|\\sum\\right|^{1/2}}exp\\left(\\frac{-(\\mu-x)^2}{2\\sum}\\right)$  \n",
    "substitute $x=\\frac{y-b}{A} on Pr(x)$ we have  \n",
    "$Pr(y) = \\frac{1}{(2\\pi)^{D/2}\\left|A{\\sum}A^T\\right|^{1/2}}exp\\left(\\frac{-(A\\mu+b-y)^2}{2(A{\\sum}A^T)}\\right) = Norm_y\\left[A\\mu+b, A{\\sum}A^T\\right]$  \n",
    "Because: $ |A||{\\sum}^{1/2}| =  |A{\\sum}A^T|^{1/2}$  \n"
   ]
  },
  {
   "cell_type": "markdown",
   "id": "4efd99cd-3382-4c21-87f5-643e52fe59ce",
   "metadata": {},
   "source": [
    "**Problem 5.2** Show that we can convert a normal distribution with mean $\\mu$ and covariance $\\sum$ to a new distribution with mean **0** and convariance **I** using the linear transformation **y=Ax+b** where:  \n",
    "&emsp;&emsp;&emsp; **$A =\\sum ^{-1/2}$**    \n",
    "&emsp;&emsp;&emsp; **$b =-\\sum ^{-1/2}\\mu$**  \n",
    "This is known as the *whitening* transform"
   ]
  },
  {
   "cell_type": "markdown",
   "id": "934db530-3611-4ead-a67c-a5a9d4f160de",
   "metadata": {},
   "source": [
    "> $Pr(x) = Norm_x\\left[\\mu, \\sum\\right] = \\frac{1}{(2\\pi)^{D/2}\\left|\\sum\\right|^{1/2}}exp\\left(\\frac{-(\\mu-x)^2}{2\\sum}\\right)$  \n",
    "substitute $x=\\frac{y-b}{A}=\\frac{y-\\sum^{-1/2}\\mu}{\\sum^{-1/2}}$ &emsp; on Pr(x)  \n",
    "We have: $Pr(y)=\\frac{1}{(2\\pi)^{D/2}I}exp\\left[\\frac{-(\\sum^{-1/2}\\mu-\\sum^{-1/2}\\mu-y)^2}{I}\\right] = \\frac{1}{(2\\pi)^{D/2}}exp\\left[\\frac{-y^2}{I}\\right]$"
   ]
  },
  {
   "cell_type": "markdown",
   "id": "a87b7a42-9e05-49f1-94da-dece414d52a5",
   "metadata": {},
   "source": [
    "***Problem 5.4:*** The Schur complement identity states that inverse of a matrix in terms of its sub-blocks is  \n",
    "$\\begin{bmatrix}A&B \\\\ C&D \\end{bmatrix}^{-1}=\\begin{bmatrix}(A-BD^{-1}C)^{-1}&-(A-BD^{-1}C)BD^{-1} \\\\ -D^{-1}C(A-BD^{-1}C)^{-1}&D^{-1}+D^{-1}C(A-BD^{-1}C)^{-1}BD^{-1} \\end{bmatrix}$  \n",
    "Prove the conditional distribution property for the normal distribution: if  \n",
    "    $Pr(x)=Pr\\left(\\begin{bmatrix}x_1\\\\ x_2\\end{bmatrix}\\right) = Norm_x\\left[\\begin{bmatrix}\\mu_1\\\\ \\mu_2\\end{bmatrix}, \\begin{bmatrix}\\sum_{11}&\\sum_{12}^T\\\\ \\sum_{12}&\\sum_{22}\\end{bmatrix} \\right],$  \n",
    "\n",
    "then  \n",
    "\n",
    "$Pr(x_1|x_2) = Norm_{x_1}\\left[\\mu_1+\\sum_{12}^T\\sum_{22}^{-1}(x_2-\\mu_2),\\sum_{11}-\\sum_{12}^T\\sum_{22}^{-1}\\sum_{12}\\right]$\n"
   ]
  },
  {
   "cell_type": "markdown",
   "id": "a716ef93-9ef5-414e-80d0-c08afa52f3c8",
   "metadata": {},
   "source": [
    "Solved by proving:  \n",
    "\n",
    "$\\begin{bmatrix}A&B \\\\ C&D \\end{bmatrix} * \\begin{bmatrix}(A-BD^{-1}C)^{-1}&-(A-BD^{-1}C)BD^{-1} \\\\ -D^{-1}C(A-BD^{-1}C)^{-1}&D^{-1}+D^{-1}C(A-BD^{-1}C)^{-1}BD^{-1} \\end{bmatrix}  = I$"
   ]
  },
  {
   "cell_type": "markdown",
   "id": "4b0b1070-e386-4efd-a8ea-a42fdc35b67b",
   "metadata": {},
   "source": [
    "***Problem 5.5:*** Prove Schur complement identity states that inverse of a matrix in terms of its sub-blocks is:\n",
    "\n",
    "$Pr(x) = Pr\\left (\\begin{bmatrix}x_1 \\\\ x_2 \\end{bmatrix} \\right ) = Norm_x \\left[\\begin{bmatrix}\\mu_1 \\\\ \\mu_2 \\end{bmatrix}, \\begin{bmatrix} \\sum_{11}&\\sum_{12}^T \\\\ \\sum_{12}&\\sum_{22} \\end{bmatrix} \\right] $  \n",
    "\n",
    "Then:  \n",
    "$Pr(x_1|x_2) = Norm_{x_1}\\left[ \\mu_1 + \\sum_{12}^T\\sum_{22}^{-1}(x_2-\\mu_2),\\sum_{12} - \\sum_{12}^T \\sum_{22}^{-1}\\sum_{12} \\right]$"
   ]
  },
  {
   "cell_type": "markdown",
   "id": "a180404d-3ad1-4cf3-a4ae-66972dae9076",
   "metadata": {},
   "source": [
    "**Solution:**  \n",
    "Apply Schur's complement:"
   ]
  }
 ],
 "metadata": {
  "kernelspec": {
   "display_name": "Python 3",
   "language": "python",
   "name": "python3"
  },
  "language_info": {
   "codemirror_mode": {
    "name": "ipython",
    "version": 3
   },
   "file_extension": ".py",
   "mimetype": "text/x-python",
   "name": "python",
   "nbconvert_exporter": "python",
   "pygments_lexer": "ipython3",
   "version": "3.6.9"
  }
 },
 "nbformat": 4,
 "nbformat_minor": 5
}
