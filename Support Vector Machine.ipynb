{
 "cells": [
  {
   "cell_type": "code",
   "execution_count": 72,
   "metadata": {},
   "outputs": [
    {
     "name": "stdout",
     "output_type": "stream",
     "text": [
      "The autoreload extension is already loaded. To reload it, use:\n",
      "  %reload_ext autoreload\n"
     ]
    }
   ],
   "source": [
    "%load_ext autoreload\n",
    "%autoreload 2\n"
   ]
  },
  {
   "cell_type": "code",
   "execution_count": 73,
   "metadata": {},
   "outputs": [],
   "source": [
    "import numpy as np\n",
    "from numpy import linalg\n",
    "import scipy.io as spio\n",
    "import matplotlib.pyplot as plt\n",
    "from matplotlib import pyplot\n"
   ]
  },
  {
   "cell_type": "code",
   "execution_count": 74,
   "metadata": {},
   "outputs": [],
   "source": [
    "def confusionMatrix(y_actual, y_predicted):\n",
    "    tp = 0                                        #                   Altual class             \n",
    "    tn = 0                                        #                 ____1______0______\n",
    "    fp = 0                                        #Predicted    1  |   TP   |   FP   |\n",
    "    fn = 0                                        # class       ---------------------\n",
    "                                                  #             0  |___FN___|___TN__|\n",
    "    for i in range(len(y_actual)):\n",
    "        if y_actual[i] == 1:\n",
    "            if y_actual[i] == y_predicted[i]:\n",
    "                tp = tp + 1\n",
    "            else:\n",
    "                fn = fn + 1\n",
    "        if y_actual[i] == 0:\n",
    "            if y_actual[i] == y_predicted[i]:\n",
    "                tn = tn + 1\n",
    "            else:\n",
    "                fp = fp + 1\n",
    "                \n",
    "    cm = [[tn, fp], [fn, tp]]\n",
    "    accuracy = (tp+tn)/(tp+tn+fp+fn)\n",
    "    sens = tp/(tp+fn)\n",
    "    prec = tp/(tp+fp)\n",
    "    fm = (2*prec*sens)/(prec+sens)\n",
    "    return cm, accuracy, fm"
   ]
  },
  {
   "cell_type": "code",
   "execution_count": 75,
   "metadata": {},
   "outputs": [],
   "source": [
    "def linear_kernel(x1, x2):\n",
    "    return np.dot(x1, x2)\n",
    "    \n",
    "def polynomial_kernel(x, y, p=3):\n",
    "    return (1 + np.dot(x, y)) ** p\n",
    "\n",
    "def gaussian_kernel(x, y, sigma=5.0):\n",
    "    numerator = np.linalg.norm(x-y)**2\n",
    "    denominator = 2 * (sigma ** 2)\n",
    "    return np.exp(-numerator / denominator)"
   ]
  },
  {
   "cell_type": "code",
   "execution_count": 76,
   "metadata": {},
   "outputs": [],
   "source": [
    "class SVM(object):\n",
    "\n",
    "    def __init__(self, kernel=linear_kernel, tol=1e-3, C=0.1,\n",
    "                 max_passes=5, sigma=0.1):\n",
    "\n",
    "        self.kernel = kernel\n",
    "        self.tol = tol\n",
    "        self.C = C\n",
    "        self.max_passes = max_passes\n",
    "        self.sigma = sigma\n",
    "        self.model = dict()\n",
    "\n",
    "    def __repr__(self):\n",
    "        return (f\"{self.__class__.__name__}(\"\n",
    "                f\"kernel={self.kernel.__name__}, \"\n",
    "                f\"tol={self.tol}, \"\n",
    "                f\"C={self.C}, \"\n",
    "                f\"max_passes={self.max_passes}, \"\n",
    "                f\"sigma={self.sigma}\"\n",
    "                \")\")\n",
    "\n",
    "    def svmTrain(self, X, Y):\n",
    "        # Data parameters\n",
    "        m = X.shape[0]\n",
    "\n",
    "        # Map 0 to -1\n",
    "        Y = np.where(Y == 0, -1, 1)\n",
    "\n",
    "        # Variables\n",
    "        alphas = np.zeros((m, 1), dtype=float)\n",
    "        b = 0.0\n",
    "        E = np.zeros((m, 1), dtype=float)\n",
    "        passes = 0\n",
    "\n",
    "        # Pre-compute the kernel matrix\n",
    "        if self.kernel.__name__ == 'linear_kernel':\n",
    "            print(f'Pre-computing {self.kernel.__name__} kernel matrix')\n",
    "            K = X @ X.T\n",
    "\n",
    "        elif self.kernel.__name__ == 'gaussian_kernel':\n",
    "            print(f'Pre-computing {self.kernel.__name__} kernel matrix')\n",
    "            X2 = np.sum(np.power(X, 2), axis=1).reshape(-1, 1)\n",
    "            K = X2 + (X2.T - (2 * (X @ X.T)))\n",
    "            K = np.power(self.kernel(1, 0, self.sigma), K)\n",
    "\n",
    "        else:\n",
    "            # Pre-compute the Kernel Matrix\n",
    "            # The following can be slow due to lack of vectorization\n",
    "            print(f'Pre-computing {self.kernel.__name__} kernel matrix')\n",
    "            K = np.zeros((m, m))\n",
    "\n",
    "            for i in range(m):\n",
    "                for j in range(m):\n",
    "                    x1 = np.transpose(X[i, :])\n",
    "                    x2 = np.transpose(X[j, :])\n",
    "                    K[i, j] = self.kernel(x1, x2)\n",
    "                    K[i, j] = K[j, i]\n",
    "\n",
    "        print('Training...')\n",
    "        print('This may take 1 to 2 minutes')\n",
    "\n",
    "        while passes < self.max_passes:\n",
    "            num_changed_alphas = 0\n",
    "\n",
    "            for i in range(m):\n",
    "                # Calculate Ei = f(x(i)) - y(i) using (2). \n",
    "                # E(i) = b + sum (X(i, :) * (repmat(alphas.*Y,1,n).*X)') - Y(i);\n",
    "                E[i] = b + np.sum(alphas * Y * K[:, i].reshape(-1, 1)) - Y[i]\n",
    "\n",
    "                if (Y[i] * E[i] < -self.tol and alphas[i] < self.C) or (Y[i] * E[i] > self.tol and alphas[i] > 0):\n",
    "                    # In practice, there are many heuristics one can use to select\n",
    "                    # the i and j. In this simplified code, we select them randomly.\n",
    "                    j = np.random.randint(0, m)\n",
    "                    while j == i:\n",
    "                        # make sure i is not equal to j\n",
    "                        j = np.random.randint(0, m)\n",
    "                    \n",
    "                    # Calculate Ej = f(x(j)) - y(j) using (2).\n",
    "                    E[j] = b + np.sum(alphas * Y *\n",
    "                                      K[:, j].reshape(-1, 1)) - Y[j]\n",
    "\n",
    "                    # Save old alphas\n",
    "                    alpha_i_old = alphas[i, 0]\n",
    "                    alpha_j_old = alphas[j, 0]\n",
    "\n",
    "                    # Compute L and H by (10) or (11)\n",
    "                    if Y[i] == Y[j]:\n",
    "                        L = max(0, alphas[j] + alphas[i] - self.C)\n",
    "                        H = min(self.C, alphas[j] + alphas[i])\n",
    "                    else:\n",
    "                        L = max(0, alphas[j] - alphas[i])\n",
    "                        H = min(self.C, self.C + alphas[j] - alphas[i])\n",
    "                    if L == H:\n",
    "                        # continue to next i\n",
    "                        continue\n",
    "\n",
    "                    # compute eta by (14)\n",
    "                    eta = 2 * K[i, j] - K[i, i] - K[j, j]\n",
    "                    if eta >= 0:\n",
    "                        # continue to next i\n",
    "                        continue\n",
    "\n",
    "                    # compute and clip new value for alpha j using (12) and (15)\n",
    "                    alphas[j] = alphas[j] - (Y[j] * (E[i] - E[j])) / eta\n",
    "\n",
    "                    # Clip\n",
    "                    alphas[j] = min(H, alphas[j])\n",
    "                    alphas[j] = max(L, alphas[j])\n",
    "\n",
    "                    # Check if change in alpha is significant\n",
    "                    if np.abs(alphas[j] - alpha_j_old) < self.tol:\n",
    "                        # continue to the next i\n",
    "                        # replace anyway\n",
    "                        alphas[j] = alpha_j_old\n",
    "                        continue\n",
    "\n",
    "                    # Determine value for alpha i using (16)\n",
    "                    alphas[i] = alphas[i] + Y[i] * \\\n",
    "                        Y[j] * (alpha_j_old - alphas[j])\n",
    "\n",
    "                    # Compute b1 and b2 using (17) and (18) respectively.\n",
    "                    b1 = b - E[i] - Y[i] * (alphas[i] - alpha_i_old) * \\\n",
    "                        K[i, j] - Y[j] * (alphas[j] - alpha_j_old) * K[i, j]\n",
    "\n",
    "                    b2 = b - E[j] - Y[i] * (alphas[i] - alpha_i_old) * \\\n",
    "                        K[i, j] - Y[j] * (alphas[j] - alpha_j_old) * K[j, j]\n",
    "\n",
    "                    # Compute b by (19).\n",
    "                    if 0 < alphas[i] < self.C:\n",
    "                        b = b1\n",
    "                    elif 0 < alphas[j] < self.C:\n",
    "                        b = b2\n",
    "                    else:\n",
    "                        b = (b1 + b2) / 2\n",
    "                    num_changed_alphas = num_changed_alphas + 1\n",
    "\n",
    "            if num_changed_alphas == 0:\n",
    "                passes = passes + 1\n",
    "            else:\n",
    "                passes = 0\n",
    "\n",
    "            print('.', end='', flush=True)\n",
    "\n",
    "        print('\\n DONE! ')\n",
    "\n",
    "        # Save the model\n",
    "        idx = alphas > 0\n",
    "        self.model['X'] = X[idx.reshape(1, -1)[0], :]\n",
    "        self.model['y'] = Y[idx.reshape(1, -1)[0]]\n",
    "        self.model['kernelFunction'] = self.kernel\n",
    "        self.model['b'] = b\n",
    "        self.model['alphas'] = alphas[idx.reshape(1, -1)[0]]\n",
    "        self.model['w'] = np.transpose(np.matmul(np.transpose(alphas * Y), X))\n",
    "        # return model\n",
    "\n",
    "\n",
    "    def predict(self, X):\n",
    "        if X.shape[1] == 1:\n",
    "            X = np.transpose(X)\n",
    "\n",
    "        # Dataset\n",
    "        m = X.shape[0]\n",
    "        p = np.zeros((m, 1))\n",
    "        pred = np.zeros((m, 1))\n",
    "\n",
    "        if self.model['kernelFunction'].__name__ == 'linear_kernel':\n",
    "            p = X.dot(self.model['w']) + self.model['b']\n",
    "\n",
    "        elif self.model['kernelFunction'].__name__ == 'gaussian_kernel':\n",
    "            # Vectorized RBF Kernel\n",
    "            # This is equivalent to computing the kernel\n",
    "            # on every pair of examples\n",
    "            X1 = np.sum(np.power(X, 2), axis=1).reshape(-1, 1)\n",
    "            X2 = np.transpose(np.sum(np.power(self.model['X'], 2), axis=1))\n",
    "            K = X1 + (X2.T - (2 * (X @ (self.model['X']).T)))\n",
    "            K = np.power(self.model['kernelFunction'](1, 0, self.sigma), K)\n",
    "            K = np.transpose(self.model['y']) * K\n",
    "            K = np.transpose(self.model['alphas']) * K\n",
    "            p = np.sum(K, axis=1)\n",
    "\n",
    "        else:\n",
    "            for i in range(m):\n",
    "                prediction = 0\n",
    "                for j in range(self.model['X'].shape[0]):\n",
    "                    prediction = prediction + self.model['alphas'][j] \\\n",
    "                        * self.model['y'][j] * \\\n",
    "                        self.model['kernelFunction'](np.transpose(\n",
    "                            X[i, :]), np.transpose(self.model['X'][j, :]))\n",
    "\n",
    "                p[i] = prediction + self.model['b']\n",
    "\n",
    "        # Convert predictions into 0 and 1\n",
    "        pred[p >= 0] = 1\n",
    "        return pred"
   ]
  },
  {
   "cell_type": "code",
   "execution_count": 77,
   "metadata": {},
   "outputs": [],
   "source": [
    "import os\n",
    "DATA_DIR = 'dataset'\n",
    "\n",
    "train = spio.loadmat(os.path.join(DATA_DIR, 'spamTrain.mat'))\n",
    "test = spio.loadmat(os.path.join(DATA_DIR, 'spamTest.mat'))\n",
    "data = spio.loadmat(os.path.join(DATA_DIR, 'ex6data1.mat'))"
   ]
  },
  {
   "cell_type": "code",
   "execution_count": 78,
   "metadata": {},
   "outputs": [],
   "source": [
    "X, y = data['X'], data['y'][:, 0]\n",
    "\n",
    "X_train = np.double(train.get('X'))\n",
    "y_train = np.double(train.get('y'))\n",
    "X_test = np.double(test.get('Xtest'))\n",
    "y_test = np.double(test.get('ytest'))"
   ]
  },
  {
   "cell_type": "code",
   "execution_count": 79,
   "metadata": {},
   "outputs": [
    {
     "data": {
      "text/plain": [
       "(4000, 1)"
      ]
     },
     "execution_count": 79,
     "metadata": {},
     "output_type": "execute_result"
    }
   ],
   "source": [
    "X_train.shape\n",
    "y_train.shape\n"
   ]
  },
  {
   "cell_type": "code",
   "execution_count": 80,
   "metadata": {},
   "outputs": [
    {
     "data": {
      "text/plain": [
       "SVM(kernel=linear_kernel, tol=0.001, C=0.1, max_passes=5, sigma=0.1)"
      ]
     },
     "execution_count": 80,
     "metadata": {},
     "output_type": "execute_result"
    }
   ],
   "source": [
    "model = SVM()\n",
    "model"
   ]
  },
  {
   "cell_type": "code",
   "execution_count": 63,
   "metadata": {},
   "outputs": [
    {
     "name": "stdout",
     "output_type": "stream",
     "text": [
      "Pre-computing linear_kernel kernel matrix\n",
      "Training...\n",
      "This may take 1 to 2 minutes\n",
      "........................................................................................................................................................................................................................................................................................................\n",
      " DONE! \n"
     ]
    }
   ],
   "source": [
    "# %%time\n",
    "model.svmTrain(X_train, y_train)\n"
   ]
  },
  {
   "cell_type": "code",
   "execution_count": 64,
   "metadata": {},
   "outputs": [
    {
     "data": {
      "text/plain": [
       "(0.99825, 0.9972581276929103)"
      ]
     },
     "execution_count": 64,
     "metadata": {},
     "output_type": "execute_result"
    }
   ],
   "source": [
    "y_predicted = model.predict(X_train)\n",
    "cm, acc, fm = confusionMatrix(y_train, y_predicted)\n",
    "acc, fm\n"
   ]
  },
  {
   "cell_type": "code",
   "execution_count": 65,
   "metadata": {},
   "outputs": [
    {
     "data": {
      "text/plain": [
       "[[2720, 3], [4, 1273]]"
      ]
     },
     "execution_count": 65,
     "metadata": {},
     "output_type": "execute_result"
    }
   ],
   "source": [
    "cm"
   ]
  },
  {
   "cell_type": "code",
   "execution_count": 66,
   "metadata": {},
   "outputs": [
    {
     "name": "stdout",
     "output_type": "stream",
     "text": [
      "Accuracy -->  0.988\n",
      "Confusion Matrix -->  [[683, 9], [3, 305]]\n"
     ]
    }
   ],
   "source": [
    "y_predicted = model.predict(X_test)\n",
    "cm, acc, fm = confusionMatrix(y_test, y_predicted)\n",
    "print('Accuracy --> ', acc)\n",
    "print('Confusion Matrix --> ', cm)"
   ]
  },
  {
   "cell_type": "code",
   "execution_count": 67,
   "metadata": {},
   "outputs": [],
   "source": [
    "def visualizeBoundaryLinear(X, y, model):\n",
    "    \"\"\"\n",
    "    Plots a linear decision boundary learned by the SVM.\n",
    "    Parameters\n",
    "    ----------\n",
    "    X : array_like\n",
    "        (m x 2) The training data with two features (to plot in a 2-D plane).\n",
    "    y : array_like\n",
    "        (m, ) The data labels.\n",
    "    model : dict\n",
    "        Dictionary of model variables learned by SVM.\n",
    "    \"\"\"\n",
    "    w, b = model['w'], model['b']\n",
    "    xp = np.linspace(min(X[:, 0]), max(X[:, 0]), 100)\n",
    "    yp = -(w[0] * xp + b)/w[1]\n",
    "\n",
    "    plotData(X, y)\n",
    "    pyplot.plot(xp, yp, '-b')\n"
   ]
  },
  {
   "cell_type": "code",
   "execution_count": 68,
   "metadata": {},
   "outputs": [],
   "source": [
    "\n",
    "def plotData(X, y, grid=False):\n",
    "    \"\"\"\n",
    "    Plots the data points X and y into a new figure. Uses `+` for positive examples, and `o` for\n",
    "    negative examples. `X` is assumed to be a Mx2 matrix\n",
    "    Parameters\n",
    "    ----------\n",
    "    X : numpy ndarray\n",
    "        X is assumed to be a Mx2 matrix.\n",
    "    y : numpy ndarray\n",
    "        The data labels.\n",
    "    grid : bool (Optional)\n",
    "        Specify whether or not to show the grid in the plot. It is False by default.\n",
    "    Notes\n",
    "    -----\n",
    "    This was slightly modified such that it expects y=1 or y=0.\n",
    "    \"\"\"\n",
    "    # Find Indices of Positive and Negative Examples\n",
    "    pos = y == 1\n",
    "    neg = y == 0\n",
    "\n",
    "    # Plot Examples\n",
    "    pyplot.plot(X[pos, 0], X[pos, 1], 'X', mew=1, ms=10, mec='k')\n",
    "    pyplot.plot(X[neg, 0], X[neg, 1], 'o', mew=1, mfc='y', ms=10, mec='k')\n",
    "    pyplot.grid(grid)\n"
   ]
  },
  {
   "cell_type": "code",
   "execution_count": 69,
   "metadata": {},
   "outputs": [],
   "source": [
    "\n",
    "def visualizeBoundary(X, y, model):\n",
    "    \"\"\"\n",
    "    Plots a non-linear decision boundary learned by the SVM and overlays the data on it.\n",
    "    Parameters\n",
    "    ----------\n",
    "    X : array_like\n",
    "        (m x 2) The training data with two features (to plot in a 2-D plane).\n",
    "    y : array_like\n",
    "        (m, ) The data labels.\n",
    "    model : dict\n",
    "        Dictionary of model variables learned by SVM.\n",
    "    \"\"\"\n",
    "    plotData(X, y)\n",
    "\n",
    "    # make classification predictions over a grid of values\n",
    "    x1plot = np.linspace(min(X[:, 0]), max(X[:, 0]), 100)\n",
    "    x2plot = np.linspace(min(X[:, 1]), max(X[:, 1]), 100)\n",
    "    X1, X2 = np.meshgrid(x1plot, x2plot)\n",
    "\n",
    "    vals = np.zeros(X1.shape)\n",
    "    for i in range(X1.shape[1]):\n",
    "        this_X = np.stack((X1[:, i], X2[:, i]), axis=1)\n",
    "        vals[:, i] = svmPredict(model, this_X)\n",
    "\n",
    "    pyplot.contour(X1, X2, vals, colors='y', linewidths=2)\n",
    "    pyplot.pcolormesh(X1, X2, vals, cmap='YlGnBu', alpha=0.25, edgecolors='None', lw=0)\n",
    "    pyplot.grid(False)\n"
   ]
  },
  {
   "cell_type": "code",
   "execution_count": 85,
   "metadata": {},
   "outputs": [
    {
     "name": "stdout",
     "output_type": "stream",
     "text": [
      "Pre-computing linear_kernel kernel matrix\n",
      "Training...\n",
      "This may take 1 to 2 minutes\n",
      "....................................................\n",
      " DONE! \n"
     ]
    },
    {
     "ename": "ValueError",
     "evalue": "operands could not be broadcast together with shapes (51,) (100,) ",
     "output_type": "error",
     "traceback": [
      "\u001b[0;31m---------------------------------------------------------------------------\u001b[0m",
      "\u001b[0;31mValueError\u001b[0m                                Traceback (most recent call last)",
      "\u001b[0;32m<ipython-input-85-64805447e46a>\u001b[0m in \u001b[0;36m<module>\u001b[0;34m\u001b[0m\n\u001b[1;32m      5\u001b[0m \u001b[0;34m\u001b[0m\u001b[0m\n\u001b[1;32m      6\u001b[0m \u001b[0mmodel\u001b[0m\u001b[0;34m.\u001b[0m\u001b[0msvmTrain\u001b[0m\u001b[0;34m(\u001b[0m\u001b[0mX\u001b[0m\u001b[0;34m,\u001b[0m \u001b[0my\u001b[0m\u001b[0;34m)\u001b[0m\u001b[0;34m\u001b[0m\u001b[0;34m\u001b[0m\u001b[0m\n\u001b[0;32m----> 7\u001b[0;31m \u001b[0mvisualizeBoundaryLinear\u001b[0m\u001b[0;34m(\u001b[0m\u001b[0mX\u001b[0m\u001b[0;34m,\u001b[0m \u001b[0my\u001b[0m\u001b[0;34m,\u001b[0m \u001b[0mmodel\u001b[0m\u001b[0;34m.\u001b[0m\u001b[0mmodel\u001b[0m\u001b[0;34m)\u001b[0m\u001b[0;34m\u001b[0m\u001b[0;34m\u001b[0m\u001b[0m\n\u001b[0m",
      "\u001b[0;32m<ipython-input-67-d9111e035c9e>\u001b[0m in \u001b[0;36mvisualizeBoundaryLinear\u001b[0;34m(X, y, model)\u001b[0m\n\u001b[1;32m     13\u001b[0m     \u001b[0mw\u001b[0m\u001b[0;34m,\u001b[0m \u001b[0mb\u001b[0m \u001b[0;34m=\u001b[0m \u001b[0mmodel\u001b[0m\u001b[0;34m[\u001b[0m\u001b[0;34m'w'\u001b[0m\u001b[0;34m]\u001b[0m\u001b[0;34m,\u001b[0m \u001b[0mmodel\u001b[0m\u001b[0;34m[\u001b[0m\u001b[0;34m'b'\u001b[0m\u001b[0;34m]\u001b[0m\u001b[0;34m\u001b[0m\u001b[0;34m\u001b[0m\u001b[0m\n\u001b[1;32m     14\u001b[0m     \u001b[0mxp\u001b[0m \u001b[0;34m=\u001b[0m \u001b[0mnp\u001b[0m\u001b[0;34m.\u001b[0m\u001b[0mlinspace\u001b[0m\u001b[0;34m(\u001b[0m\u001b[0mmin\u001b[0m\u001b[0;34m(\u001b[0m\u001b[0mX\u001b[0m\u001b[0;34m[\u001b[0m\u001b[0;34m:\u001b[0m\u001b[0;34m,\u001b[0m \u001b[0;36m0\u001b[0m\u001b[0;34m]\u001b[0m\u001b[0;34m)\u001b[0m\u001b[0;34m,\u001b[0m \u001b[0mmax\u001b[0m\u001b[0;34m(\u001b[0m\u001b[0mX\u001b[0m\u001b[0;34m[\u001b[0m\u001b[0;34m:\u001b[0m\u001b[0;34m,\u001b[0m \u001b[0;36m0\u001b[0m\u001b[0;34m]\u001b[0m\u001b[0;34m)\u001b[0m\u001b[0;34m,\u001b[0m \u001b[0;36m100\u001b[0m\u001b[0;34m)\u001b[0m\u001b[0;34m\u001b[0m\u001b[0;34m\u001b[0m\u001b[0m\n\u001b[0;32m---> 15\u001b[0;31m     \u001b[0myp\u001b[0m \u001b[0;34m=\u001b[0m \u001b[0;34m-\u001b[0m\u001b[0;34m(\u001b[0m\u001b[0mw\u001b[0m\u001b[0;34m[\u001b[0m\u001b[0;36m0\u001b[0m\u001b[0;34m]\u001b[0m \u001b[0;34m*\u001b[0m \u001b[0mxp\u001b[0m \u001b[0;34m+\u001b[0m \u001b[0mb\u001b[0m\u001b[0;34m)\u001b[0m\u001b[0;34m/\u001b[0m\u001b[0mw\u001b[0m\u001b[0;34m[\u001b[0m\u001b[0;36m1\u001b[0m\u001b[0;34m]\u001b[0m\u001b[0;34m\u001b[0m\u001b[0;34m\u001b[0m\u001b[0m\n\u001b[0m\u001b[1;32m     16\u001b[0m \u001b[0;34m\u001b[0m\u001b[0m\n\u001b[1;32m     17\u001b[0m     \u001b[0mplotData\u001b[0m\u001b[0;34m(\u001b[0m\u001b[0mX\u001b[0m\u001b[0;34m,\u001b[0m \u001b[0my\u001b[0m\u001b[0;34m)\u001b[0m\u001b[0;34m\u001b[0m\u001b[0;34m\u001b[0m\u001b[0m\n",
      "\u001b[0;31mValueError\u001b[0m: operands could not be broadcast together with shapes (51,) (100,) "
     ]
    }
   ],
   "source": [
    "C = 1\n",
    "tol=1e-3\n",
    "max_passes=20\n",
    "model = SVM( linear_kernel, tol, C, max_passes)\n",
    "\n",
    "model.svmTrain(X, y)\n",
    "visualizeBoundaryLinear(X, y, model.model)\n"
   ]
  },
  {
   "cell_type": "code",
   "execution_count": null,
   "metadata": {},
   "outputs": [],
   "source": []
  }
 ],
 "metadata": {
  "kernelspec": {
   "display_name": "Python 3",
   "language": "python",
   "name": "python3"
  },
  "language_info": {
   "codemirror_mode": {
    "name": "ipython",
    "version": 3
   },
   "file_extension": ".py",
   "mimetype": "text/x-python",
   "name": "python",
   "nbconvert_exporter": "python",
   "pygments_lexer": "ipython3",
   "version": "3.6.9"
  }
 },
 "nbformat": 4,
 "nbformat_minor": 4
}
