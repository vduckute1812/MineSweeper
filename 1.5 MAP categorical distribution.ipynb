{
 "cells": [
  {
   "cell_type": "markdown",
   "metadata": {},
   "source": [
    "As a discrete data $\\{x_i\\}_{i=1}^{I}$  where $x_i\\in\\{1,2,...6\\}$  \n",
    "$Pr(x=k|\\lambda _1.._k) = \\prod_{k=1}^{K}{\\lambda_k^{x_k}} = \\lambda_k$  \n",
    "\n",
    "Similar with ML, we choose prior **Dirichlet distribute** (conjugate function)  \n",
    "$\\frac{\\Gamma[\\sum_{k=1}^{N}\\alpha_k]}{\\prod_{k=1}^{N}{\\Gamma[\\alpha_k]}}\\prod_{k=1}^{N}\\lambda_k^{\\alpha_k-1}$  \n",
    "$Pr(\\lambda_1..\\lambda_6|x_1..x_n) = Pr(x_1..x_n|\\theta)Pr(\\theta)$,  *it has removed evident*  \n",
    "$Pr(\\lambda_1..\\lambda_6|x_1..x_n) = \\prod_{i=1}^{N}Cat_{x_i}(\\lambda_{1..6})Dir_{\\lambda_{1..6}}(\\alpha_{1..6})$  \n",
    "$Pr(\\lambda_1..\\lambda_6|x_1..x_n) = \\frac{\\Gamma[\\sum_{k=1}^{N}\\alpha_k]}{\\prod_{k=1}^{N}{\\Gamma[\\alpha_k]}}\\prod_{k=1}^{N}\\lambda_k^{\\alpha_k+N_k-1}$  \n",
    "\n",
    "Maximize the log probability and use the Lagrange, we have:  \n",
    "$\\hat{\\lambda} = \\underset{\\lambda_1.._6}{argmax}\\left [\\log{\\frac{\\Gamma[\\sum_{k=1}^{N}\\alpha_k]}{\\prod_{k=1}^{N}{\\Gamma[\\alpha_k]}}}+\\sum_{k=1}^{N}(\\alpha_k+N_k-1)\\log{\\lambda_k} + \\nu\\left(\\sum_{k=1}^{N}\\lambda_k-1\\right)\\right]$  \n",
    "$\\hat{\\lambda} = \\frac{N_k+\\alpha_k-1}{\\sum_{k=1}^{6}(N_k+a_k-1)}$"
   ]
  },
  {
   "cell_type": "code",
   "execution_count": 1,
   "metadata": {},
   "outputs": [],
   "source": [
    "import matplotlib.pyplot as plt\n",
    "import numpy as np\n",
    "import math\n",
    "from scipy import stats"
   ]
  },
  {
   "cell_type": "code",
   "execution_count": 12,
   "metadata": {},
   "outputs": [
    {
     "name": "stdout",
     "output_type": "stream",
     "text": [
      "[10, 100, 1000, 1000, 10, 1]\n",
      "[2549 1476 1021  998 1505 2451]\n",
      "[1 2 3 4 5 6]\n"
     ]
    }
   ],
   "source": [
    "I = 10000 # change to recognize result\n",
    "\n",
    "# alphaPrior = np.ones(6) # it a special type of ML\n",
    "alphaPrior = [10, 100, 1000, 1000, 10, 1]\n",
    "\n",
    "original_probabilities = [0.25,0.15,0.1,0.1,0.15,0.25]\n",
    "data = np.random.choice(np.arange(7)[1:], I, p=original_probabilities)\n",
    "\n",
    "# Histogram of categorical distribution\n",
    "x = np.histogram(data, bins=[1, 2, 3, 4, 5, 6, 7])\n",
    "print(alphaPrior)\n",
    "print(x[0])\n",
    "print(x[1][:-1])"
   ]
  },
  {
   "cell_type": "code",
   "execution_count": 13,
   "metadata": {},
   "outputs": [
    {
     "data": {
      "image/png": "[encoded data removed]",
      "text/plain": [
       "<Figure size 432x288 with 1 Axes>"
      ]
     },
     "metadata": {
      "needs_background": "light"
     },
     "output_type": "display_data"
    }
   ],
   "source": [
    "# plt.style.use('ggplot')\n",
    "# plt.hist(data, bins=6, color = 'b')\n",
    "plt.bar(np.array(x[1][:-1]), np.array(original_probabilities), align='center', alpha=0.5)\n",
    "plt.xlabel('x', size = 14)\n",
    "plt.ylabel('Frequency', size = 14)\n",
    "plt.title('Probability of roll the dice')\n",
    "\n",
    "plt.show()"
   ]
  },
  {
   "cell_type": "code",
   "execution_count": 14,
   "metadata": {},
   "outputs": [],
   "source": [
    "def MapCategoricalNorm(N, k, alpha):\n",
    "    sumLow = 0\n",
    "    for idx in range(k):\n",
    "        sumLow += N[idx] + alpha[idx] - 1\n",
    "    lambda_ = (N + alpha - 1)/sumLow\n",
    "    return lambda_"
   ]
  },
  {
   "cell_type": "code",
   "execution_count": 15,
   "metadata": {},
   "outputs": [
    {
     "name": "stdout",
     "output_type": "stream",
     "text": [
      "Maximum likelihood: [0.21114321 0.13000413 0.16673545 0.16483698 0.12496905 0.20231118]\n",
      "Original: [0.25, 0.15, 0.1, 0.1, 0.15, 0.25]\n"
     ]
    }
   ],
   "source": [
    "lambdaList = MapCategoricalNorm(x[0], 6, alphaPrior)\n",
    "\n",
    "print('Maximum likelihood:', lambdaList)\n",
    "print('Original:', original_probabilities)"
   ]
  },
  {
   "cell_type": "code",
   "execution_count": 23,
   "metadata": {},
   "outputs": [
    {
     "data": {
      "image/png": "[encoded data removed]",
      "text/plain": [
       "<Figure size 432x288 with 2 Axes>"
      ]
     },
     "metadata": {
      "needs_background": "light"
     },
     "output_type": "display_data"
    }
   ],
   "source": [
    "fig, axs = plt.subplots(1, 2)\n",
    "axs[0].bar(np.array(x[1][:-1]), np.array(original_probabilities), align='center', alpha=0.5)\n",
    "axs[0].set_title('Original', size = 14)\n",
    "rang = np.arange(0, 0.3, 0.05)\n",
    "axs[0].set_yticks(rang)\n",
    "\n",
    "axs[1].bar(np.array(x[1][:-1]), np.array(lambdaList), align='center', alpha=0.5)\n",
    "axs[1].set_title('MAP', size = 14)\n",
    "axs[1].set_yticks(rang)\n",
    "\n",
    "plt.show()"
   ]
  },
  {
   "cell_type": "code",
   "execution_count": null,
   "metadata": {},
   "outputs": [],
   "source": []
  }
 ],
 "metadata": {
  "kernelspec": {
   "display_name": "Python 3",
   "language": "python",
   "name": "python3"
  },
  "language_info": {
   "codemirror_mode": {
    "name": "ipython",
    "version": 3
   },
   "file_extension": ".py",
   "mimetype": "text/x-python",
   "name": "python",
   "nbconvert_exporter": "python",
   "pygments_lexer": "ipython3",
   "version": "3.6.12"
  }
 },
 "nbformat": 4,
 "nbformat_minor": 4
}
