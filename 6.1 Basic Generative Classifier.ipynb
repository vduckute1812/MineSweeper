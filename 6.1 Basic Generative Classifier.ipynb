{
 "cells": [
  {
   "cell_type": "code",
   "execution_count": 1,
   "metadata": {},
   "outputs": [
    {
     "name": "stdout",
     "output_type": "stream",
     "text": [
      "200\n",
      "1\n"
     ]
    }
   ],
   "source": [
    "import numpy as np\n",
    "import matplotlib.pyplot as plt\n",
    "import math\n",
    "\n",
    "# Generate N random positive numbers, and N negative numbers.\n",
    "# The mean is 2 and -2 respectively, the std is 0.5.\n",
    "N = 100\n",
    "r1 = -2 + 0.5*np.random.randn(N,1)\n",
    "r2 = 2 + 0.5*np.random.randn(N,1)\n",
    "r = np.concatenate([r1,r2])\n",
    "zeros = np.zeros((N,1))\n",
    "print(r[0:].size)\n",
    "print(r[:1].size)\n"
   ]
  },
  {
   "cell_type": "code",
   "execution_count": 2,
   "metadata": {},
   "outputs": [
    {
     "data": {
      "image/png": "[encoded data removed]",
      "text/plain": [
       "<Figure size 432x288 with 1 Axes>"
      ]
     },
     "metadata": {
      "needs_background": "light"
     },
     "output_type": "display_data"
    }
   ],
   "source": [
    "xx = np.linspace(0, 0, 10)\n",
    "yy = np.linspace(-2, 2, 10)\n",
    "plt.plot(xx,yy,'-b')\n",
    "xx = np.linspace(-10, 10, 10)\n",
    "yy = np.linspace(0, 0, 10)\n",
    "plt.plot(xx,yy,'-b')\n",
    "\n",
    "plt.xlim([-4, 4])\n",
    "# plt.ylim([-0.1,0.1])\n",
    "\n",
    "plt.plot(r1,zeros, 'ro')\n",
    "plt.plot(r2,zeros, 'go')\n",
    "\n",
    "plt.xlabel('x', size=16)\n",
    "plt.title('(a)',size=14)\n",
    "\n",
    "plt.show()\n"
   ]
  },
  {
   "cell_type": "code",
   "execution_count": 3,
   "metadata": {},
   "outputs": [],
   "source": [
    "\n",
    "\n",
    "class_column = np.concatenate((np.ones((N,1)),np.ones((N,1))+1), axis=0)\n",
    "class_column.shape\n",
    "\n",
    "x_train = np.concatenate((r, class_column), axis=1)\n",
    "x_test = np.linspace(-4,4,800)\n"
   ]
  },
  {
   "cell_type": "code",
   "execution_count": 4,
   "metadata": {},
   "outputs": [],
   "source": [
    "def class_gen(x_train, x_test, K):\n",
    "        I = x_train.size\n",
    "        "
   ]
  },
  {
   "cell_type": "code",
   "execution_count": null,
   "metadata": {},
   "outputs": [],
   "source": []
  }
 ],
 "metadata": {
  "kernelspec": {
   "display_name": "Python 3",
   "language": "python",
   "name": "python3"
  },
  "language_info": {
   "codemirror_mode": {
    "name": "ipython",
    "version": 3
   },
   "file_extension": ".py",
   "mimetype": "text/x-python",
   "name": "python",
   "nbconvert_exporter": "python",
   "pygments_lexer": "ipython3",
   "version": "3.6.9"
  }
 },
 "nbformat": 4,
 "nbformat_minor": 4
}
