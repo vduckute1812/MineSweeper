{
 "cells": [
  {
   "cell_type": "markdown",
   "metadata": {},
   "source": [
    "**Expression:** \n",
    "\n",
    "$Pr(x^*|x_1..x_n) = \\int Pr(x^*|\\theta)Pr(\\theta|x_1..x_n)d\\theta$"
   ]
  },
  {
   "cell_type": "code",
   "execution_count": 7,
   "metadata": {},
   "outputs": [],
   "source": [
    "import matplotlib.pyplot as plt\n",
    "import numpy as np\n",
    "import math\n",
    "from scipy import stats"
   ]
  },
  {
   "cell_type": "code",
   "execution_count": 8,
   "metadata": {},
   "outputs": [],
   "source": [
    "# Prepare data\n",
    "original_mu = 5\n",
    "original_sig = 8\n",
    "I = 5 # data points --> Change this value to recognize\n",
    "r = original_mu + original_sig * np.random.randn(I,1)"
   ]
  },
  {
   "cell_type": "code",
   "execution_count": 9,
   "metadata": {},
   "outputs": [],
   "source": [
    "# Maximum of a likelihood\n",
    "def mleNorm(x):\n",
    "    I = x.size;\n",
    "    mu = sum(x) / I;\n",
    "    var = sum(pow(x - mu, 2)) / I;\n",
    "    return mu, var\n",
    "\n",
    "# Maximum of a posterior\n",
    "def mapNorm(x, alpha, beta, gamma, delta):\n",
    "    I = x.size;\n",
    "    mu = (sum(x) + gamma*delta) / (I + gamma);\n",
    "    var_up = sum(pow(x - mu,2)) + 2*beta + gamma*pow(delta-mu,2);\n",
    "    var_down = I + 3 + 2*alpha;\n",
    "    var = var_up / var_down;\n",
    "    return mu, var\n",
    "\n",
    "# Bayes' approach\n",
    "def evidentNorm(alpha, beta, gamma, delta, x, x_test):\n",
    "    I = x.size\n",
    "    alpha_ = alpha + I / 2\n",
    "    beta_ = sum(pow(x,2))/2+beta + gamma*pow(delta,2)/2 - pow(gamma*delta+sum(x),2) / (2*(gamma+I))\n",
    "    gamma_ = gamma + I\n",
    "    delta_ = (gamma*delta + sum(x))/(gamma+I)\n",
    "    \n",
    "    alphaPost = alpha_ + 1/2\n",
    "    betaPost = pow(x_test,2)/2+ beta_ + gamma_*pow(delta_,2)/2 - pow(gamma_*delta_+x_test,2) / (2*(gamma_+1))\n",
    "    gammaPost = gamma_ + 1\n",
    "    deltaPost = (gamma_*delta_ + x_test)/(gamma_+1)\n",
    "    \n",
    "    upVal = math.sqrt(gamma_) * pow(beta_,alpha_) * math.gamma(alphaPost)\n",
    "    lowVal = math.sqrt(2*math.pi) * math.sqrt(gammaPost) * pow(betaPost,alphaPost) * math.gamma(alpha_)\n",
    "    k = upVal / lowVal\n",
    "    return k"
   ]
  },
  {
   "cell_type": "code",
   "execution_count": 10,
   "metadata": {},
   "outputs": [
    {
     "name": "stdout",
     "output_type": "stream",
     "text": [
      "Error value MAP:  [3.07700824] [6.99414991]\n",
      "Error value:  [1.30759011] [1.75520121]\n"
     ]
    }
   ],
   "source": [
    "estimated_mu, estimated_var = mleNorm(r)\n",
    "estimated_sig = np.sqrt(estimated_var)\n",
    "\n",
    "# MAP Error value\n",
    "map_mu, map_sig = mapNorm(r,1,1,1,0)\n",
    "map_sig = np.sqrt(map_sig)\n",
    "print('Error value MAP: ', map_mu, map_sig)\n",
    "\n",
    "# MLE Error value\n",
    "muError = abs(original_mu - estimated_mu)\n",
    "sigError = abs(original_sig - estimated_sig)\n",
    "print('Error value: ', muError,sigError)\n"
   ]
  },
  {
   "cell_type": "code",
   "execution_count": 11,
   "metadata": {},
   "outputs": [],
   "source": [
    "# Normalize distribution\n",
    "x = np.linspace(-20,30,100)\n",
    "original = stats.norm.pdf(x, original_mu, original_sig)\n",
    "map_estimated = stats.norm.pdf(x, map_mu, map_sig)\n",
    "mle_estimated = stats.norm.pdf(x, estimated_mu, estimated_sig)\n",
    "bayes_estimated = evidentNorm(1,1,1,0,r,x)"
   ]
  },
  {
   "cell_type": "code",
   "execution_count": 20,
   "metadata": {},
   "outputs": [
    {
     "data": {
      "image/png": "[encoded data removed]",
      "text/plain": [
       "<Figure size 432x288 with 1 Axes>"
      ]
     },
     "metadata": {
      "needs_background": "light"
     },
     "output_type": "display_data"
    }
   ],
   "source": [
    "plt.plot(x, bayes_estimated, color = 'c', label = \"Bayens' Estimated\")\n",
    "plt.plot(x, map_estimated, color = 'r', label = 'MAP Estimated')\n",
    "#plt.plot(x, mle_estimated, color ='b', label = 'ML Estimated')\n",
    "#plt.plot(x, original, color ='g', label = 'Original')\n",
    "plt.xlabel('x*', size = 16)\n",
    "plt.ylabel('P(x*)', size = 16)\n",
    "plt.title('Maximum of a posterior', size = 16)\n",
    "plt.legend()\n",
    "plt.show()"
   ]
  },
  {
   "cell_type": "code",
   "execution_count": null,
   "metadata": {},
   "outputs": [],
   "source": []
  }
 ],
 "metadata": {
  "kernelspec": {
   "display_name": "Python 3",
   "language": "python",
   "name": "python3"
  },
  "language_info": {
   "codemirror_mode": {
    "name": "ipython",
    "version": 3
   },
   "file_extension": ".py",
   "mimetype": "text/x-python",
   "name": "python",
   "nbconvert_exporter": "python",
   "pygments_lexer": "ipython3",
   "version": "3.6.9"
  }
 },
 "nbformat": 4,
 "nbformat_minor": 4
}
