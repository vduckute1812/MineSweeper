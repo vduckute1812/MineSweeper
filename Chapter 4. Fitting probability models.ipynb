{
 "cells": [
  {
   "cell_type": "markdown",
   "metadata": {},
   "source": [
    "```Utils: https://www.codecogs.com/latex/eqneditor.php```\n",
    "\n",
    "## ***Task list***\n",
    "- [x] Maximum likelihood\n",
    "- [ ] Maximum a posteriori\n",
    "- [ ] The Bayesian approach\n",
    "- [ ] Worked example 1: univariate normal\n",
    "- [ ] Worked example 2: categorical distribution\n",
    "- [ ] Summary"
   ]
  },
  {
   "cell_type": "markdown",
   "metadata": {},
   "source": [
    "**4.1 Maximum likelihood**\n",
    "\n",
    "As the name suggests, the maximum likelihood (ML) method finds the set of parameters ${\\widehat{\\theta}}$ under which the data $\\left \\{ x_{i} \\right \\}_{i=1}^{I}$ are most likely. To calculate the likelihood \n",
    " function $Pr\\left ( x_i|\\theta \\right )$ at a single data point $ x_{i} $, we simply evaluate the probability density function at xi. Assuming each data point was drawn independently from the\n",
    "distribution, the likelihood function $Pr\\left ( x_1..._I|\\theta \\right )$ for a set of points is the product\n",
    "of the individual likelihoods. Hence, the ML estimate of the parameters is\n",
    " "
   ]
  },
  {
   "cell_type": "code",
   "execution_count": null,
   "metadata": {},
   "outputs": [],
   "source": []
  }
 ],
 "metadata": {
  "kernelspec": {
   "display_name": "Python 3",
   "language": "python",
   "name": "python3"
  },
  "language_info": {
   "codemirror_mode": {
    "name": "ipython",
    "version": 3
   },
   "file_extension": ".py",
   "mimetype": "text/x-python",
   "name": "python",
   "nbconvert_exporter": "python",
   "pygments_lexer": "ipython3",
   "version": "3.6.9"
  }
 },
 "nbformat": 4,
 "nbformat_minor": 2
}
